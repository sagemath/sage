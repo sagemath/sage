{
 "cells": [
  {
   "cell_type": "code",
   "execution_count": 1,
   "metadata": {},
   "outputs": [],
   "source": [
    "# pip install PyGithub\n",
    "from datetime import datetime, timedelta, timezone\n",
    "\n",
    "from github.MainClass import Github\n",
    "\n",
    "# Replace with your own GitHub access token:\n",
    "ACCESS_TOKEN = \"\"\n",
    "\n",
    "g = Github(ACCESS_TOKEN)\n",
    "repo = g.get_repo(\"sagemath/sage\")\n",
    "workflow = repo.get_workflow(\"ci-conda.yml\")\n",
    "runs = workflow.get_runs()\n",
    "since = datetime.now().replace(tzinfo=timezone.utc) - timedelta(days=20)\n",
    "runs = [run for run in runs if run.created_at > since]"
   ]
  },
  {
   "cell_type": "code",
   "execution_count": 16,
   "metadata": {},
   "outputs": [
    {
     "name": "stderr",
     "output_type": "stream",
     "text": [
      "  0%|          | 1/623 [00:00<09:47,  1.06it/s]"
     ]
    },
    {
     "name": "stdout",
     "output_type": "stream",
     "text": [
      "Error: File is not a zip file for https://github.com/sagemath/sage/actions/runs/7408562483\n"
     ]
    },
    {
     "name": "stderr",
     "output_type": "stream",
     "text": [
      "  1%|          | 4/623 [00:38<1:51:46, 10.83s/it]"
     ]
    },
    {
     "name": "stdout",
     "output_type": "stream",
     "text": [
      "Error: \"There is no item named 'Conda (ubuntu-latest, 3.9, environment)/11_Test.txt' in the archive\" for https://github.com/sagemath/sage/actions/runs/7406052712\n"
     ]
    },
    {
     "name": "stderr",
     "output_type": "stream",
     "text": [
      "  1%|          | 7/623 [01:11<1:50:21, 10.75s/it]"
     ]
    },
    {
     "name": "stdout",
     "output_type": "stream",
     "text": [
      "Error: \"There is no item named 'Conda (ubuntu-latest, 3.9, environment)/11_Test.txt' in the archive\" for https://github.com/sagemath/sage/actions/runs/7405586718\n"
     ]
    },
    {
     "name": "stderr",
     "output_type": "stream",
     "text": [
      "  2%|▏         | 11/623 [01:58<1:48:33, 10.64s/it]"
     ]
    },
    {
     "name": "stdout",
     "output_type": "stream",
     "text": [
      "Error: \"There is no item named 'Conda (ubuntu-latest, 3.9, environment)/11_Test.txt' in the archive\" for https://github.com/sagemath/sage/actions/runs/7402760621\n"
     ]
    },
    {
     "name": "stderr",
     "output_type": "stream",
     "text": [
      "  2%|▏         | 12/623 [02:02<1:28:59,  8.74s/it]"
     ]
    },
    {
     "name": "stdout",
     "output_type": "stream",
     "text": [
      "Error: \"There is no item named 'Conda (ubuntu-latest, 3.9, environment)/11_Test.txt' in the archive\" for https://github.com/sagemath/sage/actions/runs/7402723525\n"
     ]
    },
    {
     "name": "stderr",
     "output_type": "stream",
     "text": [
      "  2%|▏         | 13/623 [02:12<1:32:02,  9.05s/it]"
     ]
    },
    {
     "name": "stdout",
     "output_type": "stream",
     "text": [
      "Error: \"There is no item named 'Conda (ubuntu-latest, 3.9, environment)/11_Test.txt' in the archive\" for https://github.com/sagemath/sage/actions/runs/7402587905\n"
     ]
    },
    {
     "name": "stderr",
     "output_type": "stream",
     "text": [
      "  2%|▏         | 14/623 [02:20<1:28:19,  8.70s/it]"
     ]
    },
    {
     "name": "stdout",
     "output_type": "stream",
     "text": [
      "Error: \"There is no item named 'Conda (ubuntu-latest, 3.9, environment)/11_Test.txt' in the archive\" for https://github.com/sagemath/sage/actions/runs/7402481620\n"
     ]
    },
    {
     "name": "stderr",
     "output_type": "stream",
     "text": [
      "  3%|▎         | 19/623 [03:25<2:00:10, 11.94s/it]"
     ]
    },
    {
     "name": "stdout",
     "output_type": "stream",
     "text": [
      "Error: \"There is no item named 'Conda (macos-latest, 3.9, environment)/11_Test.txt' in the archive\" for https://github.com/sagemath/sage/actions/runs/7400693779\n"
     ]
    },
    {
     "name": "stderr",
     "output_type": "stream",
     "text": [
      "  4%|▎         | 22/623 [04:05<2:09:54, 12.97s/it]"
     ]
    },
    {
     "name": "stdout",
     "output_type": "stream",
     "text": [
      "Error: \"There is no item named 'Conda (macos-latest, 3.9, environment)/11_Test.txt' in the archive\" for https://github.com/sagemath/sage/actions/runs/7399666737\n"
     ]
    },
    {
     "name": "stderr",
     "output_type": "stream",
     "text": [
      "  4%|▍         | 24/623 [04:23<1:44:36, 10.48s/it]"
     ]
    },
    {
     "name": "stdout",
     "output_type": "stream",
     "text": [
      "Error: \"There is no item named 'Conda (ubuntu-latest, 3.9, environment)/11_Test.txt' in the archive\" for https://github.com/sagemath/sage/actions/runs/7399197385\n"
     ]
    },
    {
     "name": "stderr",
     "output_type": "stream",
     "text": [
      "  4%|▍         | 26/623 [04:39<1:26:23,  8.68s/it]"
     ]
    },
    {
     "name": "stdout",
     "output_type": "stream",
     "text": [
      "Error: File is not a zip file for https://github.com/sagemath/sage/actions/runs/7398113364\n"
     ]
    },
    {
     "name": "stderr",
     "output_type": "stream",
     "text": [
      "  4%|▍         | 27/623 [04:50<1:32:12,  9.28s/it]"
     ]
    },
    {
     "name": "stdout",
     "output_type": "stream",
     "text": [
      "Error: \"There is no item named 'Conda (macos-latest, 3.9, environment)/11_Test.txt' in the archive\" for https://github.com/sagemath/sage/actions/runs/7397849019\n"
     ]
    },
    {
     "name": "stderr",
     "output_type": "stream",
     "text": [
      "  4%|▍         | 28/623 [05:04<1:46:00, 10.69s/it]"
     ]
    },
    {
     "name": "stdout",
     "output_type": "stream",
     "text": [
      "Error: \"There is no item named 'Conda (macos-latest, 3.9, environment)/11_Test.txt' in the archive\" for https://github.com/sagemath/sage/actions/runs/7397055991\n"
     ]
    },
    {
     "name": "stderr",
     "output_type": "stream",
     "text": [
      "  5%|▌         | 32/623 [05:55<1:48:58, 11.06s/it]"
     ]
    },
    {
     "name": "stdout",
     "output_type": "stream",
     "text": [
      "Error: \"There is no item named 'Conda (macos-latest, 3.9, environment)/11_Test.txt' in the archive\" for https://github.com/sagemath/sage/actions/runs/7393893589\n"
     ]
    },
    {
     "name": "stderr",
     "output_type": "stream",
     "text": [
      "  5%|▌         | 34/623 [06:16<1:41:43, 10.36s/it]"
     ]
    },
    {
     "name": "stdout",
     "output_type": "stream",
     "text": [
      "Error: \"There is no item named 'Conda (ubuntu-latest, 3.9, environment)/11_Test.txt' in the archive\" for https://github.com/sagemath/sage/actions/runs/7393272247\n"
     ]
    },
    {
     "name": "stderr",
     "output_type": "stream",
     "text": [
      "  6%|▌         | 35/623 [06:31<1:55:11, 11.75s/it]"
     ]
    },
    {
     "name": "stdout",
     "output_type": "stream",
     "text": [
      "Error: \"There is no item named 'Conda (macos-latest, 3.11, environment)/11_Test.txt' in the archive\" for https://github.com/sagemath/sage/actions/runs/7393219903\n"
     ]
    },
    {
     "name": "stderr",
     "output_type": "stream",
     "text": [
      "  6%|▌         | 38/623 [07:08<1:53:49, 11.67s/it]"
     ]
    },
    {
     "name": "stdout",
     "output_type": "stream",
     "text": [
      "Error: \"There is no item named 'Conda (ubuntu-latest, 3.9, environment)/11_Test.txt' in the archive\" for https://github.com/sagemath/sage/actions/runs/7392397403\n"
     ]
    },
    {
     "name": "stderr",
     "output_type": "stream",
     "text": [
      "  6%|▋         | 39/623 [07:20<1:53:39, 11.68s/it]"
     ]
    },
    {
     "name": "stdout",
     "output_type": "stream",
     "text": [
      "Error: \"There is no item named 'Conda (ubuntu-latest, 3.9, environment)/11_Test.txt' in the archive\" for https://github.com/sagemath/sage/actions/runs/7392238896\n"
     ]
    },
    {
     "name": "stderr",
     "output_type": "stream",
     "text": [
      "  6%|▋         | 40/623 [07:32<1:54:05, 11.74s/it]"
     ]
    },
    {
     "name": "stdout",
     "output_type": "stream",
     "text": [
      "Error: \"There is no item named 'Conda (macos-latest, 3.10, environment)/11_Test.txt' in the archive\" for https://github.com/sagemath/sage/actions/runs/7391774083\n"
     ]
    },
    {
     "name": "stderr",
     "output_type": "stream",
     "text": [
      "  7%|▋         | 42/623 [07:52<1:41:23, 10.47s/it]"
     ]
    },
    {
     "name": "stdout",
     "output_type": "stream",
     "text": [
      "Error: \"There is no item named 'Conda (ubuntu-latest, 3.9, environment)/11_Test.txt' in the archive\" for https://github.com/sagemath/sage/actions/runs/7391711665\n"
     ]
    },
    {
     "name": "stderr",
     "output_type": "stream",
     "text": [
      "  7%|▋         | 43/623 [07:56<1:25:05,  8.80s/it]"
     ]
    },
    {
     "name": "stdout",
     "output_type": "stream",
     "text": [
      "Error: \"There is no item named 'Conda (ubuntu-latest, 3.9, environment)/11_Test.txt' in the archive\" for https://github.com/sagemath/sage/actions/runs/7391689313\n"
     ]
    },
    {
     "name": "stderr",
     "output_type": "stream",
     "text": [
      "  7%|▋         | 44/623 [08:05<1:24:38,  8.77s/it]"
     ]
    },
    {
     "name": "stdout",
     "output_type": "stream",
     "text": [
      "Error: \"There is no item named 'Conda (ubuntu-latest, 3.9, environment)/11_Test.txt' in the archive\" for https://github.com/sagemath/sage/actions/runs/7391636485\n"
     ]
    },
    {
     "name": "stderr",
     "output_type": "stream",
     "text": [
      "  7%|▋         | 45/623 [08:12<1:20:21,  8.34s/it]"
     ]
    },
    {
     "name": "stdout",
     "output_type": "stream",
     "text": [
      "Error: \"There is no item named 'Conda (ubuntu-latest, 3.9, environment)/11_Test.txt' in the archive\" for https://github.com/sagemath/sage/actions/runs/7391515164\n"
     ]
    },
    {
     "name": "stderr",
     "output_type": "stream",
     "text": [
      "  7%|▋         | 46/623 [08:22<1:22:12,  8.55s/it]"
     ]
    },
    {
     "name": "stdout",
     "output_type": "stream",
     "text": [
      "Error: \"There is no item named 'Conda (ubuntu-latest, 3.9, environment)/11_Test.txt' in the archive\" for https://github.com/sagemath/sage/actions/runs/7391428369\n"
     ]
    },
    {
     "name": "stderr",
     "output_type": "stream",
     "text": [
      "  8%|▊         | 47/623 [08:34<1:32:06,  9.59s/it]"
     ]
    },
    {
     "name": "stdout",
     "output_type": "stream",
     "text": [
      "Error: \"There is no item named 'Conda (ubuntu-latest, 3.9, environment)/11_Test.txt' in the archive\" for https://github.com/sagemath/sage/actions/runs/7391350154\n"
     ]
    },
    {
     "name": "stderr",
     "output_type": "stream",
     "text": [
      "  8%|▊         | 48/623 [08:48<1:44:41, 10.92s/it]"
     ]
    },
    {
     "name": "stdout",
     "output_type": "stream",
     "text": [
      "Error: \"There is no item named 'Conda (macos-latest, 3.9, environment)/11_Test.txt' in the archive\" for https://github.com/sagemath/sage/actions/runs/7391076527\n"
     ]
    },
    {
     "name": "stderr",
     "output_type": "stream",
     "text": [
      "  8%|▊         | 50/623 [09:14<1:54:26, 11.98s/it]"
     ]
    },
    {
     "name": "stdout",
     "output_type": "stream",
     "text": [
      "Error: \"There is no item named 'Conda (ubuntu-latest, 3.9, environment)/11_Test.txt' in the archive\" for https://github.com/sagemath/sage/actions/runs/7390290234\n"
     ]
    },
    {
     "name": "stderr",
     "output_type": "stream",
     "text": [
      "  8%|▊         | 51/623 [09:23<1:43:48, 10.89s/it]"
     ]
    },
    {
     "name": "stdout",
     "output_type": "stream",
     "text": [
      "Error: \"There is no item named 'Conda (ubuntu-latest, 3.9, environment)/11_Test.txt' in the archive\" for https://github.com/sagemath/sage/actions/runs/7390227370\n"
     ]
    },
    {
     "name": "stderr",
     "output_type": "stream",
     "text": [
      "  8%|▊         | 52/623 [09:33<1:40:38, 10.57s/it]"
     ]
    },
    {
     "name": "stdout",
     "output_type": "stream",
     "text": [
      "Error: \"There is no item named 'Conda (ubuntu-latest, 3.9, environment)/11_Test.txt' in the archive\" for https://github.com/sagemath/sage/actions/runs/7390008517\n"
     ]
    },
    {
     "name": "stderr",
     "output_type": "stream",
     "text": [
      "  9%|▊         | 53/623 [09:40<1:30:53,  9.57s/it]"
     ]
    },
    {
     "name": "stdout",
     "output_type": "stream",
     "text": [
      "Error: \"There is no item named 'Conda (ubuntu-latest, 3.9, environment)/11_Test.txt' in the archive\" for https://github.com/sagemath/sage/actions/runs/7389897044\n"
     ]
    },
    {
     "name": "stderr",
     "output_type": "stream",
     "text": [
      "  9%|▉         | 57/623 [10:29<1:41:41, 10.78s/it]"
     ]
    },
    {
     "name": "stdout",
     "output_type": "stream",
     "text": [
      "Error: \"There is no item named 'Conda (ubuntu-latest, 3.9, environment)/11_Test.txt' in the archive\" for https://github.com/sagemath/sage/actions/runs/7388273537\n"
     ]
    },
    {
     "name": "stderr",
     "output_type": "stream",
     "text": [
      "  9%|▉         | 58/623 [10:40<1:43:11, 10.96s/it]"
     ]
    },
    {
     "name": "stdout",
     "output_type": "stream",
     "text": [
      "Error: \"There is no item named 'Conda (macos-latest, 3.9, environment)/11_Test.txt' in the archive\" for https://github.com/sagemath/sage/actions/runs/7387722546\n"
     ]
    },
    {
     "name": "stderr",
     "output_type": "stream",
     "text": [
      " 10%|▉         | 62/623 [11:18<1:19:29,  8.50s/it]"
     ]
    },
    {
     "name": "stdout",
     "output_type": "stream",
     "text": [
      "Error: File is not a zip file for https://github.com/sagemath/sage/actions/runs/7384678076\n"
     ]
    },
    {
     "name": "stderr",
     "output_type": "stream",
     "text": [
      " 10%|█         | 63/623 [11:19<58:15,  6.24s/it]  "
     ]
    },
    {
     "name": "stdout",
     "output_type": "stream",
     "text": [
      "Error: File is not a zip file for https://github.com/sagemath/sage/actions/runs/7384646438\n"
     ]
    },
    {
     "name": "stderr",
     "output_type": "stream",
     "text": [
      " 11%|█         | 67/623 [12:13<1:48:51, 11.75s/it]"
     ]
    },
    {
     "name": "stdout",
     "output_type": "stream",
     "text": [
      "Error: \"There is no item named 'Conda (macos-latest, 3.9, environment)/11_Test.txt' in the archive\" for https://github.com/sagemath/sage/actions/runs/7381619603\n"
     ]
    },
    {
     "name": "stderr",
     "output_type": "stream",
     "text": [
      " 11%|█▏        | 71/623 [13:03<1:49:46, 11.93s/it]"
     ]
    },
    {
     "name": "stdout",
     "output_type": "stream",
     "text": [
      "Error: \"There is no item named 'Conda (macos-latest, 3.9, environment)/11_Test.txt' in the archive\" for https://github.com/sagemath/sage/actions/runs/7378619080\n"
     ]
    },
    {
     "name": "stderr",
     "output_type": "stream",
     "text": [
      " 13%|█▎        | 78/623 [14:37<2:02:20, 13.47s/it]"
     ]
    },
    {
     "name": "stdout",
     "output_type": "stream",
     "text": [
      "Error: \"There is no item named 'Conda (macos-latest, 3.9, environment)/11_Test.txt' in the archive\" for https://github.com/sagemath/sage/actions/runs/7378017711\n"
     ]
    },
    {
     "name": "stderr",
     "output_type": "stream",
     "text": [
      " 13%|█▎        | 79/623 [14:48<1:54:00, 12.57s/it]"
     ]
    },
    {
     "name": "stdout",
     "output_type": "stream",
     "text": [
      "Error: \"There is no item named 'Conda (macos-latest, 3.9, environment)/11_Test.txt' in the archive\" for https://github.com/sagemath/sage/actions/runs/7377828289\n"
     ]
    },
    {
     "name": "stderr",
     "output_type": "stream",
     "text": [
      " 13%|█▎        | 80/623 [14:49<1:22:41,  9.14s/it]"
     ]
    },
    {
     "name": "stdout",
     "output_type": "stream",
     "text": [
      "Error: File is not a zip file for https://github.com/sagemath/sage/actions/runs/7377785345\n"
     ]
    },
    {
     "name": "stderr",
     "output_type": "stream",
     "text": [
      " 13%|█▎        | 82/623 [15:09<1:23:23,  9.25s/it]"
     ]
    },
    {
     "name": "stdout",
     "output_type": "stream",
     "text": [
      "Error: \"There is no item named 'Conda (ubuntu-latest, 3.9, environment)/11_Test.txt' in the archive\" for https://github.com/sagemath/sage/actions/runs/7377357292\n"
     ]
    },
    {
     "name": "stderr",
     "output_type": "stream",
     "text": [
      " 14%|█▎        | 85/623 [15:44<1:31:44, 10.23s/it]"
     ]
    },
    {
     "name": "stdout",
     "output_type": "stream",
     "text": [
      "Error: \"There is no item named 'Conda (ubuntu-latest, 3.9, environment)/11_Test.txt' in the archive\" for https://github.com/sagemath/sage/actions/runs/7377305380\n"
     ]
    },
    {
     "name": "stderr",
     "output_type": "stream",
     "text": [
      " 15%|█▍        | 91/623 [16:52<1:29:28, 10.09s/it]"
     ]
    },
    {
     "name": "stdout",
     "output_type": "stream",
     "text": [
      "Error: \"There is no item named 'Conda (ubuntu-latest, 3.9, environment)/11_Test.txt' in the archive\" for https://github.com/sagemath/sage/actions/runs/7373681976\n"
     ]
    },
    {
     "name": "stderr",
     "output_type": "stream",
     "text": [
      " 15%|█▌        | 96/623 [17:57<1:49:33, 12.47s/it]"
     ]
    },
    {
     "name": "stdout",
     "output_type": "stream",
     "text": [
      "Error: \"There is no item named 'Conda (ubuntu-latest, 3.9, environment)/11_Test.txt' in the archive\" for https://github.com/sagemath/sage/actions/runs/7372219454\n"
     ]
    },
    {
     "name": "stderr",
     "output_type": "stream",
     "text": [
      " 16%|█▌        | 97/623 [18:09<1:47:49, 12.30s/it]"
     ]
    },
    {
     "name": "stdout",
     "output_type": "stream",
     "text": [
      "Error: \"There is no item named 'Conda (ubuntu-latest, 3.9, environment)/11_Test.txt' in the archive\" for https://github.com/sagemath/sage/actions/runs/7372173352\n"
     ]
    },
    {
     "name": "stderr",
     "output_type": "stream",
     "text": [
      " 16%|█▌        | 98/623 [18:20<1:44:39, 11.96s/it]"
     ]
    },
    {
     "name": "stdout",
     "output_type": "stream",
     "text": [
      "Error: \"There is no item named 'Conda (ubuntu-latest, 3.9, environment)/11_Test.txt' in the archive\" for https://github.com/sagemath/sage/actions/runs/7372062966\n"
     ]
    },
    {
     "name": "stderr",
     "output_type": "stream",
     "text": [
      " 16%|█▌        | 99/623 [18:32<1:43:54, 11.90s/it]"
     ]
    },
    {
     "name": "stdout",
     "output_type": "stream",
     "text": [
      "Error: \"There is no item named 'Conda (ubuntu-latest, 3.9, environment)/11_Test.txt' in the archive\" for https://github.com/sagemath/sage/actions/runs/7371952697\n"
     ]
    },
    {
     "name": "stderr",
     "output_type": "stream",
     "text": [
      " 16%|█▌        | 101/623 [18:57<1:45:08, 12.09s/it]"
     ]
    },
    {
     "name": "stdout",
     "output_type": "stream",
     "text": [
      "Error: \"There is no item named 'Conda (macos-latest, 3.9, environment)/11_Test.txt' in the archive\" for https://github.com/sagemath/sage/actions/runs/7371755335\n"
     ]
    },
    {
     "name": "stderr",
     "output_type": "stream",
     "text": [
      " 16%|█▋        | 102/623 [18:58<1:15:59,  8.75s/it]"
     ]
    },
    {
     "name": "stdout",
     "output_type": "stream",
     "text": [
      "Error: File is not a zip file for https://github.com/sagemath/sage/actions/runs/7371714409\n"
     ]
    },
    {
     "name": "stderr",
     "output_type": "stream",
     "text": [
      " 17%|█▋        | 104/623 [19:20<1:23:12,  9.62s/it]"
     ]
    },
    {
     "name": "stdout",
     "output_type": "stream",
     "text": [
      "Error: \"There is no item named 'Conda (macos-latest, 3.9, environment)/11_Test.txt' in the archive\" for https://github.com/sagemath/sage/actions/runs/7369641435\n"
     ]
    },
    {
     "name": "stderr",
     "output_type": "stream",
     "text": [
      " 17%|█▋        | 105/623 [19:29<1:21:18,  9.42s/it]"
     ]
    },
    {
     "name": "stdout",
     "output_type": "stream",
     "text": [
      "Error: \"There is no item named 'Conda (macos-latest, 3.9, environment)/11_Test.txt' in the archive\" for https://github.com/sagemath/sage/actions/runs/7369616803\n"
     ]
    },
    {
     "name": "stderr",
     "output_type": "stream",
     "text": [
      " 18%|█▊        | 110/623 [20:33<1:38:13, 11.49s/it]"
     ]
    },
    {
     "name": "stdout",
     "output_type": "stream",
     "text": [
      "Error: \"There is no item named 'Conda (ubuntu-latest, 3.9, environment)/11_Test.txt' in the archive\" for https://github.com/sagemath/sage/actions/runs/7367144608\n"
     ]
    },
    {
     "name": "stderr",
     "output_type": "stream",
     "text": [
      " 18%|█▊        | 113/623 [21:10<1:41:52, 11.99s/it]"
     ]
    },
    {
     "name": "stdout",
     "output_type": "stream",
     "text": [
      "Error: \"There is no item named 'Conda (macos-latest, 3.9, environment)/11_Test.txt' in the archive\" for https://github.com/sagemath/sage/actions/runs/7366082556\n"
     ]
    },
    {
     "name": "stderr",
     "output_type": "stream",
     "text": [
      " 18%|█▊        | 115/623 [21:38<1:53:07, 13.36s/it]"
     ]
    },
    {
     "name": "stdout",
     "output_type": "stream",
     "text": [
      "Error: \"There is no item named 'Conda (ubuntu-latest, 3.9, environment)/11_Test.txt' in the archive\" for https://github.com/sagemath/sage/actions/runs/7365073132\n"
     ]
    },
    {
     "name": "stderr",
     "output_type": "stream",
     "text": [
      " 19%|█▊        | 116/623 [21:47<1:41:16, 11.99s/it]"
     ]
    },
    {
     "name": "stdout",
     "output_type": "stream",
     "text": [
      "Error: \"There is no item named 'Conda (macos-latest, 3.9, environment)/11_Test.txt' in the archive\" for https://github.com/sagemath/sage/actions/runs/7364453679\n"
     ]
    },
    {
     "name": "stderr",
     "output_type": "stream",
     "text": [
      " 19%|█▉        | 117/623 [21:56<1:33:40, 11.11s/it]"
     ]
    },
    {
     "name": "stdout",
     "output_type": "stream",
     "text": [
      "Error: \"There is no item named 'Conda (ubuntu-latest, 3.9, environment)/11_Test.txt' in the archive\" for https://github.com/sagemath/sage/actions/runs/7364377055\n"
     ]
    },
    {
     "name": "stderr",
     "output_type": "stream",
     "text": [
      " 19%|█▉        | 119/623 [22:21<1:39:36, 11.86s/it]"
     ]
    },
    {
     "name": "stdout",
     "output_type": "stream",
     "text": [
      "Error: \"There is no item named 'Conda (macos-latest, 3.9, environment)/11_Test.txt' in the archive\" for https://github.com/sagemath/sage/actions/runs/7364113306\n"
     ]
    },
    {
     "name": "stderr",
     "output_type": "stream",
     "text": [
      " 19%|█▉        | 120/623 [22:29<1:29:32, 10.68s/it]"
     ]
    },
    {
     "name": "stdout",
     "output_type": "stream",
     "text": [
      "Error: \"There is no item named 'Conda (ubuntu-latest, 3.9, environment)/11_Test.txt' in the archive\" for https://github.com/sagemath/sage/actions/runs/7364043102\n"
     ]
    },
    {
     "name": "stderr",
     "output_type": "stream",
     "text": [
      " 19%|█▉        | 121/623 [22:41<1:32:49, 11.10s/it]"
     ]
    },
    {
     "name": "stdout",
     "output_type": "stream",
     "text": [
      "Error: \"There is no item named 'Conda (macos-latest, 3.9, environment)/11_Test.txt' in the archive\" for https://github.com/sagemath/sage/actions/runs/7363715625\n"
     ]
    },
    {
     "name": "stderr",
     "output_type": "stream",
     "text": [
      " 20%|█▉        | 122/623 [22:52<1:33:19, 11.18s/it]"
     ]
    },
    {
     "name": "stdout",
     "output_type": "stream",
     "text": [
      "Error: \"There is no item named 'Conda (ubuntu-latest, 3.9, environment)/11_Test.txt' in the archive\" for https://github.com/sagemath/sage/actions/runs/7363643332\n"
     ]
    },
    {
     "name": "stderr",
     "output_type": "stream",
     "text": [
      " 20%|█▉        | 123/623 [23:05<1:37:27, 11.70s/it]"
     ]
    },
    {
     "name": "stdout",
     "output_type": "stream",
     "text": [
      "Error: \"There is no item named 'Conda (macos-latest, 3.9, environment)/11_Test.txt' in the archive\" for https://github.com/sagemath/sage/actions/runs/7363138769\n"
     ]
    },
    {
     "name": "stderr",
     "output_type": "stream",
     "text": [
      " 20%|██        | 126/623 [23:48<1:51:46, 13.49s/it]"
     ]
    },
    {
     "name": "stdout",
     "output_type": "stream",
     "text": [
      "Error: \"There is no item named 'Conda (ubuntu-latest, 3.9, environment)/11_Test.txt' in the archive\" for https://github.com/sagemath/sage/actions/runs/7362212791\n"
     ]
    },
    {
     "name": "stderr",
     "output_type": "stream",
     "text": [
      " 20%|██        | 127/623 [24:01<1:48:11, 13.09s/it]"
     ]
    },
    {
     "name": "stdout",
     "output_type": "stream",
     "text": [
      "Error: \"There is no item named 'Conda (ubuntu-latest, 3.9, environment)/11_Test.txt' in the archive\" for https://github.com/sagemath/sage/actions/runs/7362080387\n"
     ]
    },
    {
     "name": "stderr",
     "output_type": "stream",
     "text": [
      " 21%|██        | 128/623 [24:15<1:50:19, 13.37s/it]"
     ]
    },
    {
     "name": "stdout",
     "output_type": "stream",
     "text": [
      "Error: \"There is no item named 'Conda (ubuntu-latest, 3.9, environment)/11_Test.txt' in the archive\" for https://github.com/sagemath/sage/actions/runs/7361848737\n"
     ]
    },
    {
     "name": "stderr",
     "output_type": "stream",
     "text": [
      " 21%|██        | 129/623 [24:26<1:44:47, 12.73s/it]"
     ]
    },
    {
     "name": "stdout",
     "output_type": "stream",
     "text": [
      "Error: \"There is no item named 'Conda (ubuntu-latest, 3.9, environment)/11_Test.txt' in the archive\" for https://github.com/sagemath/sage/actions/runs/7361648916\n"
     ]
    },
    {
     "name": "stderr",
     "output_type": "stream",
     "text": [
      " 21%|██        | 131/623 [24:49<1:38:43, 12.04s/it]"
     ]
    },
    {
     "name": "stdout",
     "output_type": "stream",
     "text": [
      "Error: \"There is no item named 'Conda (ubuntu-latest, 3.9, environment)/11_Test.txt' in the archive\" for https://github.com/sagemath/sage/actions/runs/7361546722\n"
     ]
    },
    {
     "name": "stderr",
     "output_type": "stream",
     "text": [
      " 22%|██▏       | 136/623 [26:00<1:54:12, 14.07s/it]"
     ]
    },
    {
     "name": "stdout",
     "output_type": "stream",
     "text": [
      "Error: \"There is no item named 'Conda (ubuntu-latest, 3.9, environment)/11_Test.txt' in the archive\" for https://github.com/sagemath/sage/actions/runs/7358441122\n"
     ]
    },
    {
     "name": "stderr",
     "output_type": "stream",
     "text": [
      " 22%|██▏       | 137/623 [26:08<1:39:04, 12.23s/it]"
     ]
    },
    {
     "name": "stdout",
     "output_type": "stream",
     "text": [
      "Error: \"There is no item named 'Conda (ubuntu-latest, 3.9, environment)/11_Test.txt' in the archive\" for https://github.com/sagemath/sage/actions/runs/7358394751\n"
     ]
    },
    {
     "name": "stderr",
     "output_type": "stream",
     "text": [
      " 22%|██▏       | 139/623 [26:31<1:33:57, 11.65s/it]"
     ]
    },
    {
     "name": "stdout",
     "output_type": "stream",
     "text": [
      "Error: \"There is no item named 'Conda (macos-latest, 3.9, environment)/11_Test.txt' in the archive\" for https://github.com/sagemath/sage/actions/runs/7358149916\n"
     ]
    },
    {
     "name": "stderr",
     "output_type": "stream",
     "text": [
      " 22%|██▏       | 140/623 [26:41<1:31:09, 11.32s/it]"
     ]
    },
    {
     "name": "stdout",
     "output_type": "stream",
     "text": [
      "Error: \"There is no item named 'Conda (ubuntu-latest, 3.9, environment)/11_Test.txt' in the archive\" for https://github.com/sagemath/sage/actions/runs/7358142126\n"
     ]
    },
    {
     "name": "stderr",
     "output_type": "stream",
     "text": [
      " 23%|██▎       | 141/623 [26:53<1:33:01, 11.58s/it]"
     ]
    },
    {
     "name": "stdout",
     "output_type": "stream",
     "text": [
      "Error: \"There is no item named 'Conda (ubuntu-latest, 3.9, environment)/11_Test.txt' in the archive\" for https://github.com/sagemath/sage/actions/runs/7357947965\n"
     ]
    },
    {
     "name": "stderr",
     "output_type": "stream",
     "text": [
      " 23%|██▎       | 143/623 [27:21<1:41:35, 12.70s/it]"
     ]
    },
    {
     "name": "stdout",
     "output_type": "stream",
     "text": [
      "Error: \"There is no item named 'Conda (ubuntu-latest, 3.9, environment)/11_Test.txt' in the archive\" for https://github.com/sagemath/sage/actions/runs/7357117061\n"
     ]
    },
    {
     "name": "stderr",
     "output_type": "stream",
     "text": [
      " 23%|██▎       | 145/623 [27:50<1:46:13, 13.33s/it]"
     ]
    },
    {
     "name": "stdout",
     "output_type": "stream",
     "text": [
      "Error: \"There is no item named 'Conda (ubuntu-latest, 3.9, environment)/11_Test.txt' in the archive\" for https://github.com/sagemath/sage/actions/runs/7356836213\n"
     ]
    },
    {
     "name": "stderr",
     "output_type": "stream",
     "text": [
      " 23%|██▎       | 146/623 [28:03<1:45:33, 13.28s/it]"
     ]
    },
    {
     "name": "stdout",
     "output_type": "stream",
     "text": [
      "Error: \"There is no item named 'Conda (ubuntu-latest, 3.9, environment)/11_Test.txt' in the archive\" for https://github.com/sagemath/sage/actions/runs/7356747842\n"
     ]
    },
    {
     "name": "stderr",
     "output_type": "stream",
     "text": [
      " 24%|██▍       | 150/623 [29:05<2:01:36, 15.43s/it]"
     ]
    },
    {
     "name": "stdout",
     "output_type": "stream",
     "text": [
      "Error: \"There is no item named 'Conda (macos-latest, 3.10, environment)/11_Test.txt' in the archive\" for https://github.com/sagemath/sage/actions/runs/7353979984\n"
     ]
    },
    {
     "name": "stderr",
     "output_type": "stream",
     "text": [
      " 25%|██▌       | 156/623 [30:12<1:16:59,  9.89s/it]"
     ]
    },
    {
     "name": "stdout",
     "output_type": "stream",
     "text": [
      "Error: File is not a zip file for https://github.com/sagemath/sage/actions/runs/7352291460\n"
     ]
    },
    {
     "name": "stderr",
     "output_type": "stream",
     "text": [
      " 25%|██▌       | 157/623 [30:13<56:00,  7.21s/it]  "
     ]
    },
    {
     "name": "stdout",
     "output_type": "stream",
     "text": [
      "Error: File is not a zip file for https://github.com/sagemath/sage/actions/runs/7352290116\n"
     ]
    },
    {
     "name": "stderr",
     "output_type": "stream",
     "text": [
      " 26%|██▌       | 162/623 [31:16<1:22:15, 10.71s/it]"
     ]
    },
    {
     "name": "stdout",
     "output_type": "stream",
     "text": [
      "Error: \"There is no item named 'Conda (ubuntu-latest, 3.9, environment)/11_Test.txt' in the archive\" for https://github.com/sagemath/sage/actions/runs/7348342850\n"
     ]
    },
    {
     "name": "stderr",
     "output_type": "stream",
     "text": [
      " 26%|██▌       | 163/623 [31:27<1:23:29, 10.89s/it]"
     ]
    },
    {
     "name": "stdout",
     "output_type": "stream",
     "text": [
      "Error: \"There is no item named 'Conda (macos-latest, 3.9, environment)/11_Test.txt' in the archive\" for https://github.com/sagemath/sage/actions/runs/7348200281\n"
     ]
    },
    {
     "name": "stderr",
     "output_type": "stream",
     "text": [
      " 26%|██▋       | 164/623 [31:35<1:15:10,  9.83s/it]"
     ]
    },
    {
     "name": "stdout",
     "output_type": "stream",
     "text": [
      "Error: \"There is no item named 'Conda (ubuntu-latest, 3.9, environment)/11_Test.txt' in the archive\" for https://github.com/sagemath/sage/actions/runs/7348164665\n"
     ]
    },
    {
     "name": "stderr",
     "output_type": "stream",
     "text": [
      " 26%|██▋       | 165/623 [31:44<1:13:23,  9.61s/it]"
     ]
    },
    {
     "name": "stdout",
     "output_type": "stream",
     "text": [
      "Error: \"There is no item named 'Conda (macos-latest, 3.9, environment)/11_Test.txt' in the archive\" for https://github.com/sagemath/sage/actions/runs/7348080056\n"
     ]
    },
    {
     "name": "stderr",
     "output_type": "stream",
     "text": [
      " 27%|██▋       | 167/623 [31:58<1:00:09,  7.91s/it]"
     ]
    },
    {
     "name": "stdout",
     "output_type": "stream",
     "text": [
      "Error: File is not a zip file for https://github.com/sagemath/sage/actions/runs/7347821315\n"
     ]
    },
    {
     "name": "stderr",
     "output_type": "stream",
     "text": [
      " 27%|██▋       | 168/623 [32:04<55:34,  7.33s/it]  "
     ]
    },
    {
     "name": "stdout",
     "output_type": "stream",
     "text": [
      "Error: \"There is no item named 'Conda (ubuntu-latest, 3.9, environment)/11_Test.txt' in the archive\" for https://github.com/sagemath/sage/actions/runs/7347752196\n"
     ]
    },
    {
     "name": "stderr",
     "output_type": "stream",
     "text": [
      " 27%|██▋       | 169/623 [32:17<1:07:47,  8.96s/it]"
     ]
    },
    {
     "name": "stdout",
     "output_type": "stream",
     "text": [
      "Error: \"There is no item named 'Conda (macos-latest, 3.9, environment)/11_Test.txt' in the archive\" for https://github.com/sagemath/sage/actions/runs/7347650531\n"
     ]
    },
    {
     "name": "stderr",
     "output_type": "stream",
     "text": [
      " 28%|██▊       | 173/623 [33:02<1:17:26, 10.33s/it]"
     ]
    },
    {
     "name": "stdout",
     "output_type": "stream",
     "text": [
      "Error: \"There is no item named 'Conda (ubuntu-latest, 3.9, environment)/11_Test.txt' in the archive\" for https://github.com/sagemath/sage/actions/runs/7345716234\n"
     ]
    },
    {
     "name": "stderr",
     "output_type": "stream",
     "text": [
      " 29%|██▊       | 178/623 [33:54<1:07:56,  9.16s/it]"
     ]
    },
    {
     "name": "stdout",
     "output_type": "stream",
     "text": [
      "Error: \"There is no item named 'Conda (ubuntu-latest, 3.9, environment)/11_Test.txt' in the archive\" for https://github.com/sagemath/sage/actions/runs/7344191911\n"
     ]
    },
    {
     "name": "stderr",
     "output_type": "stream",
     "text": [
      " 29%|██▉       | 180/623 [34:16<1:13:07,  9.90s/it]"
     ]
    },
    {
     "name": "stdout",
     "output_type": "stream",
     "text": [
      "Error: \"There is no item named 'Conda (macos-latest, 3.9, environment)/11_Test.txt' in the archive\" for https://github.com/sagemath/sage/actions/runs/7343797571\n"
     ]
    },
    {
     "name": "stderr",
     "output_type": "stream",
     "text": [
      " 29%|██▉       | 181/623 [34:21<1:03:27,  8.61s/it]"
     ]
    },
    {
     "name": "stdout",
     "output_type": "stream",
     "text": [
      "Error: \"There is no item named 'Conda (ubuntu-latest, 3.9, environment)/11_Test.txt' in the archive\" for https://github.com/sagemath/sage/actions/runs/7343723469\n"
     ]
    },
    {
     "name": "stderr",
     "output_type": "stream",
     "text": [
      " 29%|██▉       | 182/623 [34:30<1:02:54,  8.56s/it]"
     ]
    },
    {
     "name": "stdout",
     "output_type": "stream",
     "text": [
      "Error: \"There is no item named 'Conda (macos-latest, 3.9, environment)/11_Test.txt' in the archive\" for https://github.com/sagemath/sage/actions/runs/7342982761\n"
     ]
    },
    {
     "name": "stderr",
     "output_type": "stream",
     "text": [
      " 29%|██▉       | 183/623 [34:43<1:12:49,  9.93s/it]"
     ]
    },
    {
     "name": "stdout",
     "output_type": "stream",
     "text": [
      "Error: \"There is no item named 'Conda (macos-latest, 3.9, environment)/11_Test.txt' in the archive\" for https://github.com/sagemath/sage/actions/runs/7342841273\n"
     ]
    },
    {
     "name": "stderr",
     "output_type": "stream",
     "text": [
      " 30%|██▉       | 184/623 [34:48<1:02:32,  8.55s/it]"
     ]
    },
    {
     "name": "stdout",
     "output_type": "stream",
     "text": [
      "Error: \"There is no item named 'Conda (ubuntu-latest, 3.9, environment)/11_Test.txt' in the archive\" for https://github.com/sagemath/sage/actions/runs/7342818389\n"
     ]
    },
    {
     "name": "stderr",
     "output_type": "stream",
     "text": [
      " 30%|██▉       | 185/623 [34:58<1:04:22,  8.82s/it]"
     ]
    },
    {
     "name": "stdout",
     "output_type": "stream",
     "text": [
      "Error: \"There is no item named 'Conda (ubuntu-latest, 3.9, environment)/11_Test.txt' in the archive\" for https://github.com/sagemath/sage/actions/runs/7342779041\n"
     ]
    },
    {
     "name": "stderr",
     "output_type": "stream",
     "text": [
      " 30%|██▉       | 186/623 [35:06<1:02:58,  8.65s/it]"
     ]
    },
    {
     "name": "stdout",
     "output_type": "stream",
     "text": [
      "Error: \"There is no item named 'Conda (ubuntu-latest, 3.9, environment)/11_Test.txt' in the archive\" for https://github.com/sagemath/sage/actions/runs/7342746145\n"
     ]
    },
    {
     "name": "stderr",
     "output_type": "stream",
     "text": [
      " 30%|███       | 187/623 [35:13<1:00:04,  8.27s/it]"
     ]
    },
    {
     "name": "stdout",
     "output_type": "stream",
     "text": [
      "Error: \"There is no item named 'Conda (ubuntu-latest, 3.9, environment)/11_Test.txt' in the archive\" for https://github.com/sagemath/sage/actions/runs/7342710709\n"
     ]
    },
    {
     "name": "stderr",
     "output_type": "stream",
     "text": [
      " 30%|███       | 188/623 [35:24<1:04:47,  8.94s/it]"
     ]
    },
    {
     "name": "stdout",
     "output_type": "stream",
     "text": [
      "Error: \"There is no item named 'Conda (macos-latest, 3.9, environment)/11_Test.txt' in the archive\" for https://github.com/sagemath/sage/actions/runs/7342495469\n"
     ]
    },
    {
     "name": "stderr",
     "output_type": "stream",
     "text": [
      " 30%|███       | 189/623 [35:33<1:05:36,  9.07s/it]"
     ]
    },
    {
     "name": "stdout",
     "output_type": "stream",
     "text": [
      "Error: \"There is no item named 'Conda (macos-latest, 3.9, environment)/11_Test.txt' in the archive\" for https://github.com/sagemath/sage/actions/runs/7342329939\n"
     ]
    },
    {
     "name": "stderr",
     "output_type": "stream",
     "text": [
      " 31%|███       | 192/623 [36:04<1:05:27,  9.11s/it]"
     ]
    },
    {
     "name": "stdout",
     "output_type": "stream",
     "text": [
      "Error: \"There is no item named 'Conda (ubuntu-latest, 3.9, environment)/11_Test.txt' in the archive\" for https://github.com/sagemath/sage/actions/runs/7341402013\n"
     ]
    },
    {
     "name": "stderr",
     "output_type": "stream",
     "text": [
      " 31%|███▏      | 196/623 [36:44<1:03:06,  8.87s/it]"
     ]
    },
    {
     "name": "stdout",
     "output_type": "stream",
     "text": [
      "Error: \"There is no item named 'Conda (ubuntu-latest, 3.9, environment)/11_Test.txt' in the archive\" for https://github.com/sagemath/sage/actions/runs/7340632355\n"
     ]
    },
    {
     "name": "stderr",
     "output_type": "stream",
     "text": [
      " 32%|███▏      | 198/623 [37:05<1:06:22,  9.37s/it]"
     ]
    },
    {
     "name": "stdout",
     "output_type": "stream",
     "text": [
      "Error: \"There is no item named 'Conda (macos-latest, 3.9, environment)/11_Test.txt' in the archive\" for https://github.com/sagemath/sage/actions/runs/7338844581\n"
     ]
    },
    {
     "name": "stderr",
     "output_type": "stream",
     "text": [
      " 32%|███▏      | 201/623 [37:41<1:18:58, 11.23s/it]"
     ]
    },
    {
     "name": "stdout",
     "output_type": "stream",
     "text": [
      "Error: \"There is no item named 'Conda (macos-latest, 3.9, environment)/11_Test.txt' in the archive\" for https://github.com/sagemath/sage/actions/runs/7335146516\n"
     ]
    },
    {
     "name": "stderr",
     "output_type": "stream",
     "text": [
      " 32%|███▏      | 202/623 [37:48<1:09:37,  9.92s/it]"
     ]
    },
    {
     "name": "stdout",
     "output_type": "stream",
     "text": [
      "Error: \"There is no item named 'Conda (ubuntu-latest, 3.9, environment)/11_Test.txt' in the archive\" for https://github.com/sagemath/sage/actions/runs/7335051374\n"
     ]
    },
    {
     "name": "stderr",
     "output_type": "stream",
     "text": [
      " 33%|███▎      | 203/623 [37:57<1:06:45,  9.54s/it]"
     ]
    },
    {
     "name": "stdout",
     "output_type": "stream",
     "text": [
      "Error: \"There is no item named 'Conda (macos-latest, 3.9, environment)/11_Test.txt' in the archive\" for https://github.com/sagemath/sage/actions/runs/7334880991\n"
     ]
    },
    {
     "name": "stderr",
     "output_type": "stream",
     "text": [
      " 33%|███▎      | 204/623 [38:05<1:04:30,  9.24s/it]"
     ]
    },
    {
     "name": "stdout",
     "output_type": "stream",
     "text": [
      "Error: \"There is no item named 'Conda (macos-latest, 3.9, environment)/11_Test.txt' in the archive\" for https://github.com/sagemath/sage/actions/runs/7334745377\n"
     ]
    },
    {
     "name": "stderr",
     "output_type": "stream",
     "text": [
      " 33%|███▎      | 205/623 [38:22<1:19:16, 11.38s/it]"
     ]
    },
    {
     "name": "stdout",
     "output_type": "stream",
     "text": [
      "Error: \"There is no item named 'Conda (ubuntu-latest, 3.9, environment)/11_Test.txt' in the archive\" for https://github.com/sagemath/sage/actions/runs/7334628011\n"
     ]
    },
    {
     "name": "stderr",
     "output_type": "stream",
     "text": [
      " 33%|███▎      | 207/623 [38:49<1:23:02, 11.98s/it]"
     ]
    },
    {
     "name": "stdout",
     "output_type": "stream",
     "text": [
      "Error: \"There is no item named 'Conda (ubuntu-latest, 3.9, environment)/11_Test.txt' in the archive\" for https://github.com/sagemath/sage/actions/runs/7334510083\n"
     ]
    },
    {
     "name": "stderr",
     "output_type": "stream",
     "text": [
      " 33%|███▎      | 208/623 [38:53<1:06:37,  9.63s/it]"
     ]
    },
    {
     "name": "stdout",
     "output_type": "stream",
     "text": [
      "Error: \"There is no item named 'Conda (ubuntu-latest, 3.9, environment)/11_Test.txt' in the archive\" for https://github.com/sagemath/sage/actions/runs/7334431843\n"
     ]
    },
    {
     "name": "stderr",
     "output_type": "stream",
     "text": [
      " 34%|███▎      | 210/623 [39:14<1:06:42,  9.69s/it]"
     ]
    },
    {
     "name": "stdout",
     "output_type": "stream",
     "text": [
      "Error: \"There is no item named 'Conda (macos-latest, 3.9, environment)/11_Test.txt' in the archive\" for https://github.com/sagemath/sage/actions/runs/7334419759\n"
     ]
    },
    {
     "name": "stderr",
     "output_type": "stream",
     "text": [
      " 34%|███▍      | 211/623 [39:22<1:03:52,  9.30s/it]"
     ]
    },
    {
     "name": "stdout",
     "output_type": "stream",
     "text": [
      "Error: \"There is no item named 'Conda (ubuntu-latest, 3.9, environment)/11_Test.txt' in the archive\" for https://github.com/sagemath/sage/actions/runs/7334375807\n"
     ]
    },
    {
     "name": "stderr",
     "output_type": "stream",
     "text": [
      " 34%|███▍      | 212/623 [39:31<1:03:18,  9.24s/it]"
     ]
    },
    {
     "name": "stdout",
     "output_type": "stream",
     "text": [
      "Error: \"There is no item named 'Conda (macos-latest, 3.9, environment)/11_Test.txt' in the archive\" for https://github.com/sagemath/sage/actions/runs/7334310849\n"
     ]
    },
    {
     "name": "stderr",
     "output_type": "stream",
     "text": [
      " 34%|███▍      | 213/623 [39:36<55:11,  8.08s/it]  "
     ]
    },
    {
     "name": "stdout",
     "output_type": "stream",
     "text": [
      "Error: \"There is no item named 'Conda (ubuntu-latest, 3.9, environment)/11_Test.txt' in the archive\" for https://github.com/sagemath/sage/actions/runs/7333807112\n"
     ]
    },
    {
     "name": "stderr",
     "output_type": "stream",
     "text": [
      " 34%|███▍      | 214/623 [39:43<51:17,  7.52s/it]"
     ]
    },
    {
     "name": "stdout",
     "output_type": "stream",
     "text": [
      "Error: \"There is no item named 'Conda (ubuntu-latest, 3.9, environment)/11_Test.txt' in the archive\" for https://github.com/sagemath/sage/actions/runs/7333633395\n"
     ]
    },
    {
     "name": "stderr",
     "output_type": "stream",
     "text": [
      " 35%|███▍      | 215/623 [39:50<50:06,  7.37s/it]"
     ]
    },
    {
     "name": "stdout",
     "output_type": "stream",
     "text": [
      "Error: \"There is no item named 'Conda (ubuntu-latest, 3.9, environment)/11_Test.txt' in the archive\" for https://github.com/sagemath/sage/actions/runs/7333500073\n"
     ]
    },
    {
     "name": "stderr",
     "output_type": "stream",
     "text": [
      " 35%|███▍      | 216/623 [40:00<56:14,  8.29s/it]"
     ]
    },
    {
     "name": "stdout",
     "output_type": "stream",
     "text": [
      "Error: \"There is no item named 'Conda (macos-latest, 3.9, environment)/11_Test.txt' in the archive\" for https://github.com/sagemath/sage/actions/runs/7333290413\n"
     ]
    },
    {
     "name": "stderr",
     "output_type": "stream",
     "text": [
      " 35%|███▍      | 217/623 [40:03<44:31,  6.58s/it]"
     ]
    },
    {
     "name": "stdout",
     "output_type": "stream",
     "text": [
      "Error: \"There is no item named 'Conda (ubuntu-latest, 3.9, environment)/11_Test.txt' in the archive\" for https://github.com/sagemath/sage/actions/runs/7333287317\n"
     ]
    },
    {
     "name": "stderr",
     "output_type": "stream",
     "text": [
      " 35%|███▍      | 218/623 [40:11<48:05,  7.12s/it]"
     ]
    },
    {
     "name": "stdout",
     "output_type": "stream",
     "text": [
      "Error: \"There is no item named 'Conda (macos-latest, 3.9, environment)/11_Test.txt' in the archive\" for https://github.com/sagemath/sage/actions/runs/7333184315\n"
     ]
    },
    {
     "name": "stderr",
     "output_type": "stream",
     "text": [
      " 35%|███▌      | 220/623 [40:28<49:26,  7.36s/it]  "
     ]
    },
    {
     "name": "stdout",
     "output_type": "stream",
     "text": [
      "Error: \"There is no item named 'Conda (ubuntu-latest, 3.9, environment)/11_Test.txt' in the archive\" for https://github.com/sagemath/sage/actions/runs/7333105870\n"
     ]
    },
    {
     "name": "stderr",
     "output_type": "stream",
     "text": [
      " 35%|███▌      | 221/623 [40:31<39:46,  5.94s/it]"
     ]
    },
    {
     "name": "stdout",
     "output_type": "stream",
     "text": [
      "Error: \"There is no item named 'Conda (ubuntu-latest, 3.9, environment)/11_Test.txt' in the archive\" for https://github.com/sagemath/sage/actions/runs/7333100413\n"
     ]
    },
    {
     "name": "stderr",
     "output_type": "stream",
     "text": [
      " 36%|███▌      | 222/623 [40:34<32:56,  4.93s/it]"
     ]
    },
    {
     "name": "stdout",
     "output_type": "stream",
     "text": [
      "Error: \"There is no item named 'Conda (ubuntu-latest, 3.9, environment)/11_Test.txt' in the archive\" for https://github.com/sagemath/sage/actions/runs/7332742703\n"
     ]
    },
    {
     "name": "stderr",
     "output_type": "stream",
     "text": [
      " 37%|███▋      | 228/623 [41:51<1:13:14, 11.13s/it]"
     ]
    },
    {
     "name": "stdout",
     "output_type": "stream",
     "text": [
      "Error: \"There is no item named 'Conda (macos-latest, 3.9, environment)/11_Test.txt' in the archive\" for https://github.com/sagemath/sage/actions/runs/7332508572\n"
     ]
    },
    {
     "name": "stderr",
     "output_type": "stream",
     "text": [
      " 37%|███▋      | 229/623 [42:00<1:10:01, 10.66s/it]"
     ]
    },
    {
     "name": "stdout",
     "output_type": "stream",
     "text": [
      "Error: \"There is no item named 'Conda (ubuntu-latest, 3.9, environment)/11_Test.txt' in the archive\" for https://github.com/sagemath/sage/actions/runs/7332238606\n"
     ]
    },
    {
     "name": "stderr",
     "output_type": "stream",
     "text": [
      " 37%|███▋      | 230/623 [42:10<1:08:03, 10.39s/it]"
     ]
    },
    {
     "name": "stdout",
     "output_type": "stream",
     "text": [
      "Error: \"There is no item named 'Conda (macos-latest, 3.9, environment)/11_Test.txt' in the archive\" for https://github.com/sagemath/sage/actions/runs/7332066640\n"
     ]
    },
    {
     "name": "stderr",
     "output_type": "stream",
     "text": [
      " 37%|███▋      | 231/623 [42:20<1:07:37, 10.35s/it]"
     ]
    },
    {
     "name": "stdout",
     "output_type": "stream",
     "text": [
      "Error: \"There is no item named 'Conda (macos-latest, 3.9, environment)/11_Test.txt' in the archive\" for https://github.com/sagemath/sage/actions/runs/7331757774\n"
     ]
    },
    {
     "name": "stderr",
     "output_type": "stream",
     "text": [
      " 37%|███▋      | 233/623 [42:48<1:18:15, 12.04s/it]"
     ]
    },
    {
     "name": "stdout",
     "output_type": "stream",
     "text": [
      "Error: \"There is no item named 'Conda (macos-latest, 3.9, environment)/11_Test.txt' in the archive\" for https://github.com/sagemath/sage/actions/runs/7331561444\n"
     ]
    },
    {
     "name": "stderr",
     "output_type": "stream",
     "text": [
      " 38%|███▊      | 234/623 [42:58<1:14:49, 11.54s/it]"
     ]
    },
    {
     "name": "stdout",
     "output_type": "stream",
     "text": [
      "Error: \"There is no item named 'Conda (macos-latest, 3.9, environment)/11_Test.txt' in the archive\" for https://github.com/sagemath/sage/actions/runs/7331416885\n"
     ]
    },
    {
     "name": "stderr",
     "output_type": "stream",
     "text": [
      " 38%|███▊      | 235/623 [43:12<1:19:12, 12.25s/it]"
     ]
    },
    {
     "name": "stdout",
     "output_type": "stream",
     "text": [
      "Error: \"There is no item named 'Conda (macos-latest, 3.9, environment)/11_Test.txt' in the archive\" for https://github.com/sagemath/sage/actions/runs/7331236608\n"
     ]
    },
    {
     "name": "stderr",
     "output_type": "stream",
     "text": [
      " 38%|███▊      | 239/623 [44:03<1:16:53, 12.01s/it]"
     ]
    },
    {
     "name": "stdout",
     "output_type": "stream",
     "text": [
      "Error: \"There is no item named 'Conda (macos-latest, 3.9, environment)/11_Test.txt' in the archive\" for https://github.com/sagemath/sage/actions/runs/7331093368\n"
     ]
    },
    {
     "name": "stderr",
     "output_type": "stream",
     "text": [
      " 39%|███▊      | 240/623 [44:08<1:03:13,  9.90s/it]"
     ]
    },
    {
     "name": "stdout",
     "output_type": "stream",
     "text": [
      "Error: \"There is no item named 'Conda (ubuntu-latest, 3.9, environment)/11_Test.txt' in the archive\" for https://github.com/sagemath/sage/actions/runs/7331090549\n"
     ]
    },
    {
     "name": "stderr",
     "output_type": "stream",
     "text": [
      " 39%|███▉      | 242/623 [44:30<1:04:44, 10.20s/it]"
     ]
    },
    {
     "name": "stdout",
     "output_type": "stream",
     "text": [
      "Error: \"There is no item named 'Conda (macos-latest, 3.9, environment)/11_Test.txt' in the archive\" for https://github.com/sagemath/sage/actions/runs/7330763055\n"
     ]
    },
    {
     "name": "stderr",
     "output_type": "stream",
     "text": [
      " 39%|███▉      | 244/623 [44:43<51:09,  8.10s/it]  "
     ]
    },
    {
     "name": "stdout",
     "output_type": "stream",
     "text": [
      "Error: \"There is no item named 'Conda (ubuntu-latest, 3.9, environment)/11_Test.txt' in the archive\" for https://github.com/sagemath/sage/actions/runs/7330442962\n"
     ]
    },
    {
     "name": "stderr",
     "output_type": "stream",
     "text": [
      " 39%|███▉      | 246/623 [45:00<49:09,  7.82s/it]  "
     ]
    },
    {
     "name": "stdout",
     "output_type": "stream",
     "text": [
      "Error: \"There is no item named 'Conda (ubuntu-latest, 3.9, environment)/11_Test.txt' in the archive\" for https://github.com/sagemath/sage/actions/runs/7330406985\n"
     ]
    },
    {
     "name": "stderr",
     "output_type": "stream",
     "text": [
      " 40%|████      | 252/623 [46:15<1:12:30, 11.73s/it]"
     ]
    },
    {
     "name": "stdout",
     "output_type": "stream",
     "text": [
      "Error: \"There is no item named 'Conda (ubuntu-latest, 3.9, environment)/11_Test.txt' in the archive\" for https://github.com/sagemath/sage/actions/runs/7329837128\n"
     ]
    },
    {
     "name": "stderr",
     "output_type": "stream",
     "text": [
      " 41%|████      | 255/623 [46:58<1:19:36, 12.98s/it]"
     ]
    },
    {
     "name": "stdout",
     "output_type": "stream",
     "text": [
      "Error: \"There is no item named 'Conda (macos-latest, 3.9, environment)/11_Test.txt' in the archive\" for https://github.com/sagemath/sage/actions/runs/7329524929\n"
     ]
    },
    {
     "name": "stderr",
     "output_type": "stream",
     "text": [
      " 41%|████▏     | 257/623 [47:22<1:15:23, 12.36s/it]"
     ]
    },
    {
     "name": "stdout",
     "output_type": "stream",
     "text": [
      "Error: \"There is no item named 'Conda (macos-latest, 3.10, environment)/11_Test.txt' in the archive\" for https://github.com/sagemath/sage/actions/runs/7328480160\n"
     ]
    },
    {
     "name": "stderr",
     "output_type": "stream",
     "text": [
      " 41%|████▏     | 258/623 [47:36<1:18:22, 12.88s/it]"
     ]
    },
    {
     "name": "stdout",
     "output_type": "stream",
     "text": [
      "Error: \"There is no item named 'Conda (macos-latest, 3.9, environment)/11_Test.txt' in the archive\" for https://github.com/sagemath/sage/actions/runs/7327681124\n"
     ]
    },
    {
     "name": "stderr",
     "output_type": "stream",
     "text": [
      " 42%|████▏     | 261/623 [48:16<1:17:10, 12.79s/it]"
     ]
    },
    {
     "name": "stdout",
     "output_type": "stream",
     "text": [
      "Error: \"There is no item named 'Conda (macos-latest, 3.9, environment)/11_Test.txt' in the archive\" for https://github.com/sagemath/sage/actions/runs/7325963913\n"
     ]
    },
    {
     "name": "stderr",
     "output_type": "stream",
     "text": [
      " 42%|████▏     | 264/623 [48:56<1:14:22, 12.43s/it]"
     ]
    },
    {
     "name": "stdout",
     "output_type": "stream",
     "text": [
      "Error: \"There is no item named 'Conda (ubuntu-latest, 3.9, environment)/11_Test.txt' in the archive\" for https://github.com/sagemath/sage/actions/runs/7325662913\n"
     ]
    },
    {
     "name": "stderr",
     "output_type": "stream",
     "text": [
      " 43%|████▎     | 265/623 [49:08<1:13:46, 12.36s/it]"
     ]
    },
    {
     "name": "stdout",
     "output_type": "stream",
     "text": [
      "Error: \"There is no item named 'Conda (macos-latest, 3.9, environment)/11_Test.txt' in the archive\" for https://github.com/sagemath/sage/actions/runs/7325466328\n"
     ]
    },
    {
     "name": "stderr",
     "output_type": "stream",
     "text": [
      " 43%|████▎     | 267/623 [49:29<1:06:09, 11.15s/it]"
     ]
    },
    {
     "name": "stdout",
     "output_type": "stream",
     "text": [
      "Error: \"There is no item named 'Conda (ubuntu-latest, 3.9, environment)/11_Test.txt' in the archive\" for https://github.com/sagemath/sage/actions/runs/7325137819\n"
     ]
    },
    {
     "name": "stderr",
     "output_type": "stream",
     "text": [
      " 43%|████▎     | 269/623 [49:55<1:10:35, 11.96s/it]"
     ]
    },
    {
     "name": "stdout",
     "output_type": "stream",
     "text": [
      "Error: \"There is no item named 'Conda (macos-latest, 3.10, environment)/11_Test.txt' in the archive\" for https://github.com/sagemath/sage/actions/runs/7324702472\n"
     ]
    },
    {
     "name": "stderr",
     "output_type": "stream",
     "text": [
      " 43%|████▎     | 270/623 [50:16<1:26:31, 14.71s/it]"
     ]
    },
    {
     "name": "stdout",
     "output_type": "stream",
     "text": [
      "Error: \"There is no item named 'Conda (macos-latest, 3.11, environment)/11_Test.txt' in the archive\" for https://github.com/sagemath/sage/actions/runs/7324363487\n"
     ]
    },
    {
     "name": "stderr",
     "output_type": "stream",
     "text": [
      " 44%|████▍     | 273/623 [50:41<56:38,  9.71s/it]  "
     ]
    },
    {
     "name": "stdout",
     "output_type": "stream",
     "text": [
      "Error: File is not a zip file for https://github.com/sagemath/sage/actions/runs/7322660480\n"
     ]
    },
    {
     "name": "stderr",
     "output_type": "stream",
     "text": [
      " 44%|████▍     | 274/623 [50:52<58:03,  9.98s/it]"
     ]
    },
    {
     "name": "stdout",
     "output_type": "stream",
     "text": [
      "Error: \"There is no item named 'Conda (macos-latest, 3.9, environment)/11_Test.txt' in the archive\" for https://github.com/sagemath/sage/actions/runs/7321568079\n"
     ]
    },
    {
     "name": "stderr",
     "output_type": "stream",
     "text": [
      " 44%|████▍     | 275/623 [51:06<1:05:54, 11.36s/it]"
     ]
    },
    {
     "name": "stdout",
     "output_type": "stream",
     "text": [
      "Error: \"There is no item named 'Conda (macos-latest, 3.11, environment)/11_Test.txt' in the archive\" for https://github.com/sagemath/sage/actions/runs/7321198512\n"
     ]
    },
    {
     "name": "stderr",
     "output_type": "stream",
     "text": [
      " 44%|████▍     | 276/623 [51:11<53:36,  9.27s/it]  "
     ]
    },
    {
     "name": "stdout",
     "output_type": "stream",
     "text": [
      "Error: \"There is no item named 'Conda (ubuntu-latest, 3.9, environment)/11_Test.txt' in the archive\" for https://github.com/sagemath/sage/actions/runs/7321193941\n"
     ]
    },
    {
     "name": "stderr",
     "output_type": "stream",
     "text": [
      " 44%|████▍     | 277/623 [51:22<57:16,  9.93s/it]"
     ]
    },
    {
     "name": "stdout",
     "output_type": "stream",
     "text": [
      "Error: \"There is no item named 'Conda (macos-latest, 3.9, environment)/11_Test.txt' in the archive\" for https://github.com/sagemath/sage/actions/runs/7321018202\n"
     ]
    },
    {
     "name": "stderr",
     "output_type": "stream",
     "text": [
      " 45%|████▍     | 279/623 [51:40<50:01,  8.73s/it]  "
     ]
    },
    {
     "name": "stdout",
     "output_type": "stream",
     "text": [
      "Error: File is not a zip file for https://github.com/sagemath/sage/actions/runs/7320442857\n"
     ]
    },
    {
     "name": "stderr",
     "output_type": "stream",
     "text": [
      " 45%|████▌     | 281/623 [52:08<1:03:48, 11.19s/it]"
     ]
    },
    {
     "name": "stdout",
     "output_type": "stream",
     "text": [
      "Error: \"There is no item named 'Conda (macos-latest, 3.9, environment)/11_Test.txt' in the archive\" for https://github.com/sagemath/sage/actions/runs/7319653818\n"
     ]
    },
    {
     "name": "stderr",
     "output_type": "stream",
     "text": [
      " 45%|████▌     | 282/623 [52:15<56:36,  9.96s/it]  "
     ]
    },
    {
     "name": "stdout",
     "output_type": "stream",
     "text": [
      "Error: \"There is no item named 'Conda (ubuntu-latest, 3.9, environment)/11_Test.txt' in the archive\" for https://github.com/sagemath/sage/actions/runs/7319522674\n"
     ]
    },
    {
     "name": "stderr",
     "output_type": "stream",
     "text": [
      " 45%|████▌     | 283/623 [52:21<50:13,  8.86s/it]"
     ]
    },
    {
     "name": "stdout",
     "output_type": "stream",
     "text": [
      "Error: \"There is no item named 'Conda (ubuntu-latest, 3.9, environment)/11_Test.txt' in the archive\" for https://github.com/sagemath/sage/actions/runs/7319473325\n"
     ]
    },
    {
     "name": "stderr",
     "output_type": "stream",
     "text": [
      " 46%|████▌     | 284/623 [52:32<53:43,  9.51s/it]"
     ]
    },
    {
     "name": "stdout",
     "output_type": "stream",
     "text": [
      "Error: \"There is no item named 'Conda (macos-latest, 3.9, environment)/11_Test.txt' in the archive\" for https://github.com/sagemath/sage/actions/runs/7319019258\n"
     ]
    },
    {
     "name": "stderr",
     "output_type": "stream",
     "text": [
      " 46%|████▌     | 285/623 [52:39<48:46,  8.66s/it]"
     ]
    },
    {
     "name": "stdout",
     "output_type": "stream",
     "text": [
      "Error: \"There is no item named 'Conda (ubuntu-latest, 3.9, environment)/11_Test.txt' in the archive\" for https://github.com/sagemath/sage/actions/runs/7318981291\n"
     ]
    },
    {
     "name": "stderr",
     "output_type": "stream",
     "text": [
      " 46%|████▌     | 286/623 [52:45<44:42,  7.96s/it]"
     ]
    },
    {
     "name": "stdout",
     "output_type": "stream",
     "text": [
      "Error: \"There is no item named 'Conda (ubuntu-latest, 3.9, environment)/11_Test.txt' in the archive\" for https://github.com/sagemath/sage/actions/runs/7318911524\n"
     ]
    },
    {
     "name": "stderr",
     "output_type": "stream",
     "text": [
      " 46%|████▌     | 287/623 [52:53<45:12,  8.07s/it]"
     ]
    },
    {
     "name": "stdout",
     "output_type": "stream",
     "text": [
      "Error: \"There is no item named 'Conda (ubuntu-latest, 3.9, environment)/11_Test.txt' in the archive\" for https://github.com/sagemath/sage/actions/runs/7318861229\n"
     ]
    },
    {
     "name": "stderr",
     "output_type": "stream",
     "text": [
      " 46%|████▌     | 288/623 [52:58<38:36,  6.92s/it]"
     ]
    },
    {
     "name": "stdout",
     "output_type": "stream",
     "text": [
      "Error: \"There is no item named 'Conda (ubuntu-latest, 3.9, environment)/11_Test.txt' in the archive\" for https://github.com/sagemath/sage/actions/runs/7318848733\n"
     ]
    },
    {
     "name": "stderr",
     "output_type": "stream",
     "text": [
      " 46%|████▋     | 289/623 [53:05<39:09,  7.03s/it]"
     ]
    },
    {
     "name": "stdout",
     "output_type": "stream",
     "text": [
      "Error: \"There is no item named 'Conda (ubuntu-latest, 3.9, environment)/11_Test.txt' in the archive\" for https://github.com/sagemath/sage/actions/runs/7318754835\n"
     ]
    },
    {
     "name": "stderr",
     "output_type": "stream",
     "text": [
      " 47%|████▋     | 294/623 [54:04<52:39,  9.60s/it]  "
     ]
    },
    {
     "name": "stdout",
     "output_type": "stream",
     "text": [
      "Error: \"There is no item named 'Conda (ubuntu-latest, 3.9, environment)/11_Test.txt' in the archive\" for https://github.com/sagemath/sage/actions/runs/7317942854\n"
     ]
    },
    {
     "name": "stderr",
     "output_type": "stream",
     "text": [
      " 48%|████▊     | 302/623 [55:50<1:02:21, 11.66s/it]"
     ]
    },
    {
     "name": "stdout",
     "output_type": "stream",
     "text": [
      "Error: \"There is no item named 'Conda (ubuntu-latest, 3.9, environment)/11_Test.txt' in the archive\" for https://github.com/sagemath/sage/actions/runs/7313389628\n"
     ]
    },
    {
     "name": "stderr",
     "output_type": "stream",
     "text": [
      " 49%|████▊     | 303/623 [55:57<54:38, 10.24s/it]  "
     ]
    },
    {
     "name": "stdout",
     "output_type": "stream",
     "text": [
      "Error: \"There is no item named 'Conda (ubuntu-latest, 3.9, environment)/11_Test.txt' in the archive\" for https://github.com/sagemath/sage/actions/runs/7313347355\n"
     ]
    },
    {
     "name": "stderr",
     "output_type": "stream",
     "text": [
      " 49%|████▉     | 304/623 [56:07<54:35, 10.27s/it]"
     ]
    },
    {
     "name": "stdout",
     "output_type": "stream",
     "text": [
      "Error: \"There is no item named 'Conda (ubuntu-latest, 3.9, environment)/11_Test.txt' in the archive\" for https://github.com/sagemath/sage/actions/runs/7313283245\n"
     ]
    },
    {
     "name": "stderr",
     "output_type": "stream",
     "text": [
      " 49%|████▉     | 305/623 [56:20<58:40, 11.07s/it]"
     ]
    },
    {
     "name": "stdout",
     "output_type": "stream",
     "text": [
      "Error: \"There is no item named 'Conda (macos-latest, 3.9, environment)/11_Test.txt' in the archive\" for https://github.com/sagemath/sage/actions/runs/7313002733\n"
     ]
    },
    {
     "name": "stderr",
     "output_type": "stream",
     "text": [
      " 49%|████▉     | 306/623 [56:26<50:52,  9.63s/it]"
     ]
    },
    {
     "name": "stdout",
     "output_type": "stream",
     "text": [
      "Error: \"There is no item named 'Conda (ubuntu-latest, 3.9, environment)/11_Test.txt' in the archive\" for https://github.com/sagemath/sage/actions/runs/7312971647\n"
     ]
    },
    {
     "name": "stderr",
     "output_type": "stream",
     "text": [
      " 49%|████▉     | 307/623 [56:31<42:42,  8.11s/it]"
     ]
    },
    {
     "name": "stdout",
     "output_type": "stream",
     "text": [
      "Error: \"There is no item named 'Conda (ubuntu-latest, 3.9, environment)/11_Test.txt' in the archive\" for https://github.com/sagemath/sage/actions/runs/7312951874\n"
     ]
    },
    {
     "name": "stderr",
     "output_type": "stream",
     "text": [
      " 49%|████▉     | 308/623 [56:38<40:18,  7.68s/it]"
     ]
    },
    {
     "name": "stdout",
     "output_type": "stream",
     "text": [
      "Error: \"There is no item named 'Conda (ubuntu-latest, 3.9, environment)/11_Test.txt' in the archive\" for https://github.com/sagemath/sage/actions/runs/7312926733\n"
     ]
    },
    {
     "name": "stderr",
     "output_type": "stream",
     "text": [
      " 50%|████▉     | 309/623 [56:50<47:53,  9.15s/it]"
     ]
    },
    {
     "name": "stdout",
     "output_type": "stream",
     "text": [
      "Error: \"There is no item named 'Conda (ubuntu-latest, 3.9, environment)/11_Test.txt' in the archive\" for https://github.com/sagemath/sage/actions/runs/7312822799\n"
     ]
    },
    {
     "name": "stderr",
     "output_type": "stream",
     "text": [
      " 50%|████▉     | 310/623 [56:58<44:54,  8.61s/it]"
     ]
    },
    {
     "name": "stdout",
     "output_type": "stream",
     "text": [
      "Error: \"There is no item named 'Conda (ubuntu-latest, 3.9, environment)/11_Test.txt' in the archive\" for https://github.com/sagemath/sage/actions/runs/7312772884\n"
     ]
    },
    {
     "name": "stderr",
     "output_type": "stream",
     "text": [
      " 50%|█████     | 312/623 [57:24<57:25, 11.08s/it]"
     ]
    },
    {
     "name": "stdout",
     "output_type": "stream",
     "text": [
      "Error: \"There is no item named 'Conda (macos-latest, 3.9, environment)/11_Test.txt' in the archive\" for https://github.com/sagemath/sage/actions/runs/7312594841\n"
     ]
    },
    {
     "name": "stderr",
     "output_type": "stream",
     "text": [
      " 50%|█████     | 313/623 [57:37<59:30, 11.52s/it]"
     ]
    },
    {
     "name": "stdout",
     "output_type": "stream",
     "text": [
      "Error: \"There is no item named 'Conda (macos-latest, 3.9, environment)/11_Test.txt' in the archive\" for https://github.com/sagemath/sage/actions/runs/7312479624\n"
     ]
    },
    {
     "name": "stderr",
     "output_type": "stream",
     "text": [
      " 51%|█████     | 315/623 [57:56<52:18, 10.19s/it]  "
     ]
    },
    {
     "name": "stdout",
     "output_type": "stream",
     "text": [
      "Error: \"There is no item named 'Conda (ubuntu-latest, 3.9, environment)/11_Test.txt' in the archive\" for https://github.com/sagemath/sage/actions/runs/7311776490\n"
     ]
    },
    {
     "name": "stderr",
     "output_type": "stream",
     "text": [
      " 51%|█████     | 316/623 [58:03<48:01,  9.39s/it]"
     ]
    },
    {
     "name": "stdout",
     "output_type": "stream",
     "text": [
      "Error: \"There is no item named 'Conda (ubuntu-latest, 3.9, environment)/11_Test.txt' in the archive\" for https://github.com/sagemath/sage/actions/runs/7311724276\n"
     ]
    },
    {
     "name": "stderr",
     "output_type": "stream",
     "text": [
      " 51%|█████     | 317/623 [58:09<42:24,  8.32s/it]"
     ]
    },
    {
     "name": "stdout",
     "output_type": "stream",
     "text": [
      "Error: \"There is no item named 'Conda (ubuntu-latest, 3.9, environment)/11_Test.txt' in the archive\" for https://github.com/sagemath/sage/actions/runs/7311657176\n"
     ]
    },
    {
     "name": "stderr",
     "output_type": "stream",
     "text": [
      " 51%|█████     | 318/623 [58:16<39:34,  7.79s/it]"
     ]
    },
    {
     "name": "stdout",
     "output_type": "stream",
     "text": [
      "Error: \"There is no item named 'Conda (ubuntu-latest, 3.9, environment)/11_Test.txt' in the archive\" for https://github.com/sagemath/sage/actions/runs/7311581792\n"
     ]
    },
    {
     "name": "stderr",
     "output_type": "stream",
     "text": [
      " 52%|█████▏    | 322/623 [58:58<44:15,  8.82s/it]"
     ]
    },
    {
     "name": "stdout",
     "output_type": "stream",
     "text": [
      "Error: \"There is no item named 'Conda (ubuntu-latest, 3.9, environment)/11_Test.txt' in the archive\" for https://github.com/sagemath/sage/actions/runs/7310714264\n"
     ]
    },
    {
     "name": "stderr",
     "output_type": "stream",
     "text": [
      " 52%|█████▏    | 323/623 [59:00<34:50,  6.97s/it]"
     ]
    },
    {
     "name": "stdout",
     "output_type": "stream",
     "text": [
      "Error: \"There is no item named 'Conda (ubuntu-latest, 3.9, environment)/11_Test.txt' in the archive\" for https://github.com/sagemath/sage/actions/runs/7310522228\n"
     ]
    },
    {
     "name": "stderr",
     "output_type": "stream",
     "text": [
      " 52%|█████▏    | 324/623 [59:03<28:02,  5.63s/it]"
     ]
    },
    {
     "name": "stdout",
     "output_type": "stream",
     "text": [
      "Error: \"There is no item named 'Conda (ubuntu-latest, 3.9, environment)/11_Test.txt' in the archive\" for https://github.com/sagemath/sage/actions/runs/7310494099\n"
     ]
    },
    {
     "name": "stderr",
     "output_type": "stream",
     "text": [
      " 52%|█████▏    | 325/623 [59:05<23:17,  4.69s/it]"
     ]
    },
    {
     "name": "stdout",
     "output_type": "stream",
     "text": [
      "Error: \"There is no item named 'Conda (ubuntu-latest, 3.9, environment)/11_Test.txt' in the archive\" for https://github.com/sagemath/sage/actions/runs/7310371315\n"
     ]
    },
    {
     "name": "stderr",
     "output_type": "stream",
     "text": [
      " 52%|█████▏    | 326/623 [59:11<24:38,  4.98s/it]"
     ]
    },
    {
     "name": "stdout",
     "output_type": "stream",
     "text": [
      "Error: \"There is no item named 'Conda (ubuntu-latest, 3.9, environment)/11_Test.txt' in the archive\" for https://github.com/sagemath/sage/actions/runs/7310235370\n"
     ]
    },
    {
     "name": "stderr",
     "output_type": "stream",
     "text": [
      " 53%|█████▎    | 329/623 [1:04:54<58:00, 11.84s/it]\n"
     ]
    },
    {
     "ename": "ChunkedEncodingError",
     "evalue": "('Connection broken: IncompleteRead(6137 bytes read, 4103 more expected)', IncompleteRead(6137 bytes read, 4103 more expected))",
     "output_type": "error",
     "traceback": [
      "\u001b[1;31m---------------------------------------------------------------------------\u001b[0m",
      "\u001b[1;31mIncompleteRead\u001b[0m                            Traceback (most recent call last)",
      "File \u001b[1;32mc:\\Users\\Tobia\\AppData\\Local\\Programs\\Python\\Python311\\Lib\\site-packages\\urllib3\\response.py:710\u001b[0m, in \u001b[0;36mHTTPResponse._error_catcher\u001b[1;34m(self)\u001b[0m\n\u001b[0;32m    709\u001b[0m \u001b[38;5;28;01mtry\u001b[39;00m:\n\u001b[1;32m--> 710\u001b[0m     \u001b[38;5;28;01myield\u001b[39;00m\n\u001b[0;32m    712\u001b[0m \u001b[38;5;28;01mexcept\u001b[39;00m SocketTimeout \u001b[38;5;28;01mas\u001b[39;00m e:\n\u001b[0;32m    713\u001b[0m     \u001b[38;5;66;03m# FIXME: Ideally we'd like to include the url in the ReadTimeoutError but\u001b[39;00m\n\u001b[0;32m    714\u001b[0m     \u001b[38;5;66;03m# there is yet no clean way to get at it from this context.\u001b[39;00m\n",
      "File \u001b[1;32mc:\\Users\\Tobia\\AppData\\Local\\Programs\\Python\\Python311\\Lib\\site-packages\\urllib3\\response.py:1076\u001b[0m, in \u001b[0;36mHTTPResponse.read_chunked\u001b[1;34m(self, amt, decode_content)\u001b[0m\n\u001b[0;32m   1075\u001b[0m     \u001b[38;5;28;01mbreak\u001b[39;00m\n\u001b[1;32m-> 1076\u001b[0m chunk \u001b[38;5;241m=\u001b[39m \u001b[38;5;28;43mself\u001b[39;49m\u001b[38;5;241;43m.\u001b[39;49m\u001b[43m_handle_chunk\u001b[49m\u001b[43m(\u001b[49m\u001b[43mamt\u001b[49m\u001b[43m)\u001b[49m\n\u001b[0;32m   1077\u001b[0m decoded \u001b[38;5;241m=\u001b[39m \u001b[38;5;28mself\u001b[39m\u001b[38;5;241m.\u001b[39m_decode(\n\u001b[0;32m   1078\u001b[0m     chunk, decode_content\u001b[38;5;241m=\u001b[39mdecode_content, flush_decoder\u001b[38;5;241m=\u001b[39m\u001b[38;5;28;01mFalse\u001b[39;00m\n\u001b[0;32m   1079\u001b[0m )\n",
      "File \u001b[1;32mc:\\Users\\Tobia\\AppData\\Local\\Programs\\Python\\Python311\\Lib\\site-packages\\urllib3\\response.py:1018\u001b[0m, in \u001b[0;36mHTTPResponse._handle_chunk\u001b[1;34m(self, amt)\u001b[0m\n\u001b[0;32m   1017\u001b[0m \u001b[38;5;28;01melif\u001b[39;00m \u001b[38;5;28mself\u001b[39m\u001b[38;5;241m.\u001b[39mchunk_left \u001b[38;5;129;01mis\u001b[39;00m \u001b[38;5;129;01mnot\u001b[39;00m \u001b[38;5;28;01mNone\u001b[39;00m \u001b[38;5;129;01mand\u001b[39;00m amt \u001b[38;5;241m<\u001b[39m \u001b[38;5;28mself\u001b[39m\u001b[38;5;241m.\u001b[39mchunk_left:\n\u001b[1;32m-> 1018\u001b[0m     value \u001b[38;5;241m=\u001b[39m \u001b[38;5;28;43mself\u001b[39;49m\u001b[38;5;241;43m.\u001b[39;49m\u001b[43m_fp\u001b[49m\u001b[38;5;241;43m.\u001b[39;49m\u001b[43m_safe_read\u001b[49m\u001b[43m(\u001b[49m\u001b[43mamt\u001b[49m\u001b[43m)\u001b[49m  \u001b[38;5;66;03m# type: ignore[union-attr]\u001b[39;00m\n\u001b[0;32m   1019\u001b[0m     \u001b[38;5;28mself\u001b[39m\u001b[38;5;241m.\u001b[39mchunk_left \u001b[38;5;241m=\u001b[39m \u001b[38;5;28mself\u001b[39m\u001b[38;5;241m.\u001b[39mchunk_left \u001b[38;5;241m-\u001b[39m amt\n",
      "File \u001b[1;32mc:\\Users\\Tobia\\AppData\\Local\\Programs\\Python\\Python311\\Lib\\http\\client.py:633\u001b[0m, in \u001b[0;36mHTTPResponse._safe_read\u001b[1;34m(self, amt)\u001b[0m\n\u001b[0;32m    632\u001b[0m \u001b[38;5;28;01mif\u001b[39;00m \u001b[38;5;28mlen\u001b[39m(data) \u001b[38;5;241m<\u001b[39m amt:\n\u001b[1;32m--> 633\u001b[0m     \u001b[38;5;28;01mraise\u001b[39;00m IncompleteRead(data, amt\u001b[38;5;241m-\u001b[39m\u001b[38;5;28mlen\u001b[39m(data))\n\u001b[0;32m    634\u001b[0m \u001b[38;5;28;01mreturn\u001b[39;00m data\n",
      "\u001b[1;31mIncompleteRead\u001b[0m: IncompleteRead(6137 bytes read, 4103 more expected)",
      "\nThe above exception was the direct cause of the following exception:\n",
      "\u001b[1;31mProtocolError\u001b[0m                             Traceback (most recent call last)",
      "File \u001b[1;32mc:\\Users\\Tobia\\AppData\\Local\\Programs\\Python\\Python311\\Lib\\site-packages\\requests\\models.py:816\u001b[0m, in \u001b[0;36mResponse.iter_content.<locals>.generate\u001b[1;34m()\u001b[0m\n\u001b[0;32m    815\u001b[0m \u001b[38;5;28;01mtry\u001b[39;00m:\n\u001b[1;32m--> 816\u001b[0m     \u001b[38;5;28;01myield from\u001b[39;00m \u001b[38;5;28mself\u001b[39m\u001b[38;5;241m.\u001b[39mraw\u001b[38;5;241m.\u001b[39mstream(chunk_size, decode_content\u001b[38;5;241m=\u001b[39m\u001b[38;5;28;01mTrue\u001b[39;00m)\n\u001b[0;32m    817\u001b[0m \u001b[38;5;28;01mexcept\u001b[39;00m ProtocolError \u001b[38;5;28;01mas\u001b[39;00m e:\n",
      "File \u001b[1;32mc:\\Users\\Tobia\\AppData\\Local\\Programs\\Python\\Python311\\Lib\\site-packages\\urllib3\\response.py:933\u001b[0m, in \u001b[0;36mHTTPResponse.stream\u001b[1;34m(self, amt, decode_content)\u001b[0m\n\u001b[0;32m    932\u001b[0m \u001b[38;5;28;01mif\u001b[39;00m \u001b[38;5;28mself\u001b[39m\u001b[38;5;241m.\u001b[39mchunked \u001b[38;5;129;01mand\u001b[39;00m \u001b[38;5;28mself\u001b[39m\u001b[38;5;241m.\u001b[39msupports_chunked_reads():\n\u001b[1;32m--> 933\u001b[0m     \u001b[38;5;28;01myield from\u001b[39;00m \u001b[38;5;28mself\u001b[39m\u001b[38;5;241m.\u001b[39mread_chunked(amt, decode_content\u001b[38;5;241m=\u001b[39mdecode_content)\n\u001b[0;32m    934\u001b[0m \u001b[38;5;28;01melse\u001b[39;00m:\n",
      "File \u001b[1;32mc:\\Users\\Tobia\\AppData\\Local\\Programs\\Python\\Python311\\Lib\\site-packages\\urllib3\\response.py:1061\u001b[0m, in \u001b[0;36mHTTPResponse.read_chunked\u001b[1;34m(self, amt, decode_content)\u001b[0m\n\u001b[0;32m   1056\u001b[0m     \u001b[38;5;28;01mraise\u001b[39;00m BodyNotHttplibCompatible(\n\u001b[0;32m   1057\u001b[0m         \u001b[38;5;124m\"\u001b[39m\u001b[38;5;124mBody should be http.client.HTTPResponse like. \u001b[39m\u001b[38;5;124m\"\u001b[39m\n\u001b[0;32m   1058\u001b[0m         \u001b[38;5;124m\"\u001b[39m\u001b[38;5;124mIt should have have an fp attribute which returns raw chunks.\u001b[39m\u001b[38;5;124m\"\u001b[39m\n\u001b[0;32m   1059\u001b[0m     )\n\u001b[1;32m-> 1061\u001b[0m \u001b[43m\u001b[49m\u001b[38;5;28;43;01mwith\u001b[39;49;00m\u001b[43m \u001b[49m\u001b[38;5;28;43mself\u001b[39;49m\u001b[38;5;241;43m.\u001b[39;49m\u001b[43m_error_catcher\u001b[49m\u001b[43m(\u001b[49m\u001b[43m)\u001b[49m\u001b[43m:\u001b[49m\n\u001b[0;32m   1062\u001b[0m \u001b[43m    \u001b[49m\u001b[38;5;66;43;03m# Don't bother reading the body of a HEAD request.\u001b[39;49;00m\n\u001b[0;32m   1063\u001b[0m \u001b[43m    \u001b[49m\u001b[38;5;28;43;01mif\u001b[39;49;00m\u001b[43m \u001b[49m\u001b[38;5;28;43mself\u001b[39;49m\u001b[38;5;241;43m.\u001b[39;49m\u001b[43m_original_response\u001b[49m\u001b[43m \u001b[49m\u001b[38;5;129;43;01mand\u001b[39;49;00m\u001b[43m \u001b[49m\u001b[43mis_response_to_head\u001b[49m\u001b[43m(\u001b[49m\u001b[38;5;28;43mself\u001b[39;49m\u001b[38;5;241;43m.\u001b[39;49m\u001b[43m_original_response\u001b[49m\u001b[43m)\u001b[49m\u001b[43m:\u001b[49m\n",
      "File \u001b[1;32mc:\\Users\\Tobia\\AppData\\Local\\Programs\\Python\\Python311\\Lib\\contextlib.py:155\u001b[0m, in \u001b[0;36m_GeneratorContextManager.__exit__\u001b[1;34m(self, typ, value, traceback)\u001b[0m\n\u001b[0;32m    154\u001b[0m \u001b[38;5;28;01mtry\u001b[39;00m:\n\u001b[1;32m--> 155\u001b[0m     \u001b[38;5;28mself\u001b[39m\u001b[38;5;241m.\u001b[39mgen\u001b[38;5;241m.\u001b[39mthrow(typ, value, traceback)\n\u001b[0;32m    156\u001b[0m \u001b[38;5;28;01mexcept\u001b[39;00m \u001b[38;5;167;01mStopIteration\u001b[39;00m \u001b[38;5;28;01mas\u001b[39;00m exc:\n\u001b[0;32m    157\u001b[0m     \u001b[38;5;66;03m# Suppress StopIteration *unless* it's the same exception that\u001b[39;00m\n\u001b[0;32m    158\u001b[0m     \u001b[38;5;66;03m# was passed to throw().  This prevents a StopIteration\u001b[39;00m\n\u001b[0;32m    159\u001b[0m     \u001b[38;5;66;03m# raised inside the \"with\" statement from being suppressed.\u001b[39;00m\n",
      "File \u001b[1;32mc:\\Users\\Tobia\\AppData\\Local\\Programs\\Python\\Python311\\Lib\\site-packages\\urllib3\\response.py:727\u001b[0m, in \u001b[0;36mHTTPResponse._error_catcher\u001b[1;34m(self)\u001b[0m\n\u001b[0;32m    725\u001b[0m \u001b[38;5;28;01mexcept\u001b[39;00m (HTTPException, \u001b[38;5;167;01mOSError\u001b[39;00m) \u001b[38;5;28;01mas\u001b[39;00m e:\n\u001b[0;32m    726\u001b[0m     \u001b[38;5;66;03m# This includes IncompleteRead.\u001b[39;00m\n\u001b[1;32m--> 727\u001b[0m     \u001b[38;5;28;01mraise\u001b[39;00m ProtocolError(\u001b[38;5;124mf\u001b[39m\u001b[38;5;124m\"\u001b[39m\u001b[38;5;124mConnection broken: \u001b[39m\u001b[38;5;132;01m{\u001b[39;00me\u001b[38;5;132;01m!r}\u001b[39;00m\u001b[38;5;124m\"\u001b[39m, e) \u001b[38;5;28;01mfrom\u001b[39;00m \u001b[38;5;21;01me\u001b[39;00m\n\u001b[0;32m    729\u001b[0m \u001b[38;5;66;03m# If no exception is thrown, we should avoid cleaning up\u001b[39;00m\n\u001b[0;32m    730\u001b[0m \u001b[38;5;66;03m# unnecessarily.\u001b[39;00m\n",
      "\u001b[1;31mProtocolError\u001b[0m: ('Connection broken: IncompleteRead(6137 bytes read, 4103 more expected)', IncompleteRead(6137 bytes read, 4103 more expected))",
      "\nDuring handling of the above exception, another exception occurred:\n",
      "\u001b[1;31mChunkedEncodingError\u001b[0m                      Traceback (most recent call last)",
      "Cell \u001b[1;32mIn[16], line 21\u001b[0m\n\u001b[0;32m     17\u001b[0m \u001b[38;5;28;01mfor\u001b[39;00m run \u001b[38;5;129;01min\u001b[39;00m tqdm\u001b[38;5;241m.\u001b[39mtqdm(runs):\n\u001b[0;32m     18\u001b[0m     \u001b[38;5;28;01mif\u001b[39;00m \u001b[38;5;28;01mTrue\u001b[39;00m:  \u001b[38;5;66;03m# run.conclusion == \"success\":\u001b[39;00m\n\u001b[0;32m     19\u001b[0m         \u001b[38;5;66;03m# run.logs_url\u001b[39;00m\n\u001b[0;32m     20\u001b[0m         \u001b[38;5;66;03m# download log\u001b[39;00m\n\u001b[1;32m---> 21\u001b[0m         response \u001b[38;5;241m=\u001b[39m \u001b[43mrequests\u001b[49m\u001b[38;5;241;43m.\u001b[39;49m\u001b[43mget\u001b[49m\u001b[43m(\u001b[49m\n\u001b[0;32m     22\u001b[0m \u001b[43m            \u001b[49m\u001b[43mrun\u001b[49m\u001b[38;5;241;43m.\u001b[39;49m\u001b[43mlogs_url\u001b[49m\u001b[43m,\u001b[49m\n\u001b[0;32m     23\u001b[0m \u001b[43m            \u001b[49m\u001b[43mheaders\u001b[49m\u001b[38;5;241;43m=\u001b[39;49m\u001b[43m{\u001b[49m\n\u001b[0;32m     24\u001b[0m \u001b[43m                \u001b[49m\u001b[38;5;124;43m\"\u001b[39;49m\u001b[38;5;124;43mAccept\u001b[39;49m\u001b[38;5;124;43m\"\u001b[39;49m\u001b[43m:\u001b[49m\u001b[43m \u001b[49m\u001b[38;5;124;43m\"\u001b[39;49m\u001b[38;5;124;43mapplication/vnd.github.v3+json\u001b[39;49m\u001b[38;5;124;43m\"\u001b[39;49m\u001b[43m,\u001b[49m\n\u001b[0;32m     25\u001b[0m \u001b[43m                \u001b[49m\u001b[38;5;124;43m\"\u001b[39;49m\u001b[38;5;124;43mAuthorization\u001b[39;49m\u001b[38;5;124;43m\"\u001b[39;49m\u001b[43m:\u001b[49m\u001b[43m \u001b[49m\u001b[38;5;124;43mf\u001b[39;49m\u001b[38;5;124;43m\"\u001b[39;49m\u001b[38;5;124;43mtoken \u001b[39;49m\u001b[38;5;132;43;01m{\u001b[39;49;00m\u001b[43mACCESS_TOKEN\u001b[49m\u001b[38;5;132;43;01m}\u001b[39;49;00m\u001b[38;5;124;43m\"\u001b[39;49m\u001b[43m,\u001b[49m\n\u001b[0;32m     26\u001b[0m \u001b[43m            \u001b[49m\u001b[43m}\u001b[49m\u001b[43m,\u001b[49m\n\u001b[0;32m     27\u001b[0m \u001b[43m        \u001b[49m\u001b[43m)\u001b[49m\n\u001b[0;32m     28\u001b[0m         zip_file \u001b[38;5;241m=\u001b[39m response\u001b[38;5;241m.\u001b[39mcontent\n\u001b[0;32m     29\u001b[0m         \u001b[38;5;28;01mtry\u001b[39;00m:\n",
      "File \u001b[1;32mc:\\Users\\Tobia\\AppData\\Local\\Programs\\Python\\Python311\\Lib\\site-packages\\requests\\api.py:73\u001b[0m, in \u001b[0;36mget\u001b[1;34m(url, params, **kwargs)\u001b[0m\n\u001b[0;32m     62\u001b[0m \u001b[38;5;28;01mdef\u001b[39;00m \u001b[38;5;21mget\u001b[39m(url, params\u001b[38;5;241m=\u001b[39m\u001b[38;5;28;01mNone\u001b[39;00m, \u001b[38;5;241m*\u001b[39m\u001b[38;5;241m*\u001b[39mkwargs):\n\u001b[0;32m     63\u001b[0m \u001b[38;5;250m    \u001b[39m\u001b[38;5;124mr\u001b[39m\u001b[38;5;124;03m\"\"\"Sends a GET request.\u001b[39;00m\n\u001b[0;32m     64\u001b[0m \n\u001b[0;32m     65\u001b[0m \u001b[38;5;124;03m    :param url: URL for the new :class:`Request` object.\u001b[39;00m\n\u001b[1;32m   (...)\u001b[0m\n\u001b[0;32m     70\u001b[0m \u001b[38;5;124;03m    :rtype: requests.Response\u001b[39;00m\n\u001b[0;32m     71\u001b[0m \u001b[38;5;124;03m    \"\"\"\u001b[39;00m\n\u001b[1;32m---> 73\u001b[0m     \u001b[38;5;28;01mreturn\u001b[39;00m \u001b[43mrequest\u001b[49m\u001b[43m(\u001b[49m\u001b[38;5;124;43m\"\u001b[39;49m\u001b[38;5;124;43mget\u001b[39;49m\u001b[38;5;124;43m\"\u001b[39;49m\u001b[43m,\u001b[49m\u001b[43m \u001b[49m\u001b[43murl\u001b[49m\u001b[43m,\u001b[49m\u001b[43m \u001b[49m\u001b[43mparams\u001b[49m\u001b[38;5;241;43m=\u001b[39;49m\u001b[43mparams\u001b[49m\u001b[43m,\u001b[49m\u001b[43m \u001b[49m\u001b[38;5;241;43m*\u001b[39;49m\u001b[38;5;241;43m*\u001b[39;49m\u001b[43mkwargs\u001b[49m\u001b[43m)\u001b[49m\n",
      "File \u001b[1;32mc:\\Users\\Tobia\\AppData\\Local\\Programs\\Python\\Python311\\Lib\\site-packages\\requests\\api.py:59\u001b[0m, in \u001b[0;36mrequest\u001b[1;34m(method, url, **kwargs)\u001b[0m\n\u001b[0;32m     55\u001b[0m \u001b[38;5;66;03m# By using the 'with' statement we are sure the session is closed, thus we\u001b[39;00m\n\u001b[0;32m     56\u001b[0m \u001b[38;5;66;03m# avoid leaving sockets open which can trigger a ResourceWarning in some\u001b[39;00m\n\u001b[0;32m     57\u001b[0m \u001b[38;5;66;03m# cases, and look like a memory leak in others.\u001b[39;00m\n\u001b[0;32m     58\u001b[0m \u001b[38;5;28;01mwith\u001b[39;00m sessions\u001b[38;5;241m.\u001b[39mSession() \u001b[38;5;28;01mas\u001b[39;00m session:\n\u001b[1;32m---> 59\u001b[0m     \u001b[38;5;28;01mreturn\u001b[39;00m \u001b[43msession\u001b[49m\u001b[38;5;241;43m.\u001b[39;49m\u001b[43mrequest\u001b[49m\u001b[43m(\u001b[49m\u001b[43mmethod\u001b[49m\u001b[38;5;241;43m=\u001b[39;49m\u001b[43mmethod\u001b[49m\u001b[43m,\u001b[49m\u001b[43m \u001b[49m\u001b[43murl\u001b[49m\u001b[38;5;241;43m=\u001b[39;49m\u001b[43murl\u001b[49m\u001b[43m,\u001b[49m\u001b[43m \u001b[49m\u001b[38;5;241;43m*\u001b[39;49m\u001b[38;5;241;43m*\u001b[39;49m\u001b[43mkwargs\u001b[49m\u001b[43m)\u001b[49m\n",
      "File \u001b[1;32mc:\\Users\\Tobia\\AppData\\Local\\Programs\\Python\\Python311\\Lib\\site-packages\\requests\\sessions.py:589\u001b[0m, in \u001b[0;36mSession.request\u001b[1;34m(self, method, url, params, data, headers, cookies, files, auth, timeout, allow_redirects, proxies, hooks, stream, verify, cert, json)\u001b[0m\n\u001b[0;32m    584\u001b[0m send_kwargs \u001b[38;5;241m=\u001b[39m {\n\u001b[0;32m    585\u001b[0m     \u001b[38;5;124m\"\u001b[39m\u001b[38;5;124mtimeout\u001b[39m\u001b[38;5;124m\"\u001b[39m: timeout,\n\u001b[0;32m    586\u001b[0m     \u001b[38;5;124m\"\u001b[39m\u001b[38;5;124mallow_redirects\u001b[39m\u001b[38;5;124m\"\u001b[39m: allow_redirects,\n\u001b[0;32m    587\u001b[0m }\n\u001b[0;32m    588\u001b[0m send_kwargs\u001b[38;5;241m.\u001b[39mupdate(settings)\n\u001b[1;32m--> 589\u001b[0m resp \u001b[38;5;241m=\u001b[39m \u001b[38;5;28;43mself\u001b[39;49m\u001b[38;5;241;43m.\u001b[39;49m\u001b[43msend\u001b[49m\u001b[43m(\u001b[49m\u001b[43mprep\u001b[49m\u001b[43m,\u001b[49m\u001b[43m \u001b[49m\u001b[38;5;241;43m*\u001b[39;49m\u001b[38;5;241;43m*\u001b[39;49m\u001b[43msend_kwargs\u001b[49m\u001b[43m)\u001b[49m\n\u001b[0;32m    591\u001b[0m \u001b[38;5;28;01mreturn\u001b[39;00m resp\n",
      "File \u001b[1;32mc:\\Users\\Tobia\\AppData\\Local\\Programs\\Python\\Python311\\Lib\\site-packages\\requests\\sessions.py:725\u001b[0m, in \u001b[0;36mSession.send\u001b[1;34m(self, request, **kwargs)\u001b[0m\n\u001b[0;32m    722\u001b[0m \u001b[38;5;28;01mif\u001b[39;00m allow_redirects:\n\u001b[0;32m    723\u001b[0m     \u001b[38;5;66;03m# Redirect resolving generator.\u001b[39;00m\n\u001b[0;32m    724\u001b[0m     gen \u001b[38;5;241m=\u001b[39m \u001b[38;5;28mself\u001b[39m\u001b[38;5;241m.\u001b[39mresolve_redirects(r, request, \u001b[38;5;241m*\u001b[39m\u001b[38;5;241m*\u001b[39mkwargs)\n\u001b[1;32m--> 725\u001b[0m     history \u001b[38;5;241m=\u001b[39m \u001b[43m[\u001b[49m\u001b[43mresp\u001b[49m\u001b[43m \u001b[49m\u001b[38;5;28;43;01mfor\u001b[39;49;00m\u001b[43m \u001b[49m\u001b[43mresp\u001b[49m\u001b[43m \u001b[49m\u001b[38;5;129;43;01min\u001b[39;49;00m\u001b[43m \u001b[49m\u001b[43mgen\u001b[49m\u001b[43m]\u001b[49m\n\u001b[0;32m    726\u001b[0m \u001b[38;5;28;01melse\u001b[39;00m:\n\u001b[0;32m    727\u001b[0m     history \u001b[38;5;241m=\u001b[39m []\n",
      "File \u001b[1;32mc:\\Users\\Tobia\\AppData\\Local\\Programs\\Python\\Python311\\Lib\\site-packages\\requests\\sessions.py:725\u001b[0m, in \u001b[0;36m<listcomp>\u001b[1;34m(.0)\u001b[0m\n\u001b[0;32m    722\u001b[0m \u001b[38;5;28;01mif\u001b[39;00m allow_redirects:\n\u001b[0;32m    723\u001b[0m     \u001b[38;5;66;03m# Redirect resolving generator.\u001b[39;00m\n\u001b[0;32m    724\u001b[0m     gen \u001b[38;5;241m=\u001b[39m \u001b[38;5;28mself\u001b[39m\u001b[38;5;241m.\u001b[39mresolve_redirects(r, request, \u001b[38;5;241m*\u001b[39m\u001b[38;5;241m*\u001b[39mkwargs)\n\u001b[1;32m--> 725\u001b[0m     history \u001b[38;5;241m=\u001b[39m \u001b[43m[\u001b[49m\u001b[43mresp\u001b[49m\u001b[43m \u001b[49m\u001b[38;5;28;43;01mfor\u001b[39;49;00m\u001b[43m \u001b[49m\u001b[43mresp\u001b[49m\u001b[43m \u001b[49m\u001b[38;5;129;43;01min\u001b[39;49;00m\u001b[43m \u001b[49m\u001b[43mgen\u001b[49m\u001b[43m]\u001b[49m\n\u001b[0;32m    726\u001b[0m \u001b[38;5;28;01melse\u001b[39;00m:\n\u001b[0;32m    727\u001b[0m     history \u001b[38;5;241m=\u001b[39m []\n",
      "File \u001b[1;32mc:\\Users\\Tobia\\AppData\\Local\\Programs\\Python\\Python311\\Lib\\site-packages\\requests\\sessions.py:266\u001b[0m, in \u001b[0;36mSessionRedirectMixin.resolve_redirects\u001b[1;34m(self, resp, req, stream, timeout, verify, cert, proxies, yield_requests, **adapter_kwargs)\u001b[0m\n\u001b[0;32m    263\u001b[0m     \u001b[38;5;28;01myield\u001b[39;00m req\n\u001b[0;32m    264\u001b[0m \u001b[38;5;28;01melse\u001b[39;00m:\n\u001b[1;32m--> 266\u001b[0m     resp \u001b[38;5;241m=\u001b[39m \u001b[38;5;28;43mself\u001b[39;49m\u001b[38;5;241;43m.\u001b[39;49m\u001b[43msend\u001b[49m\u001b[43m(\u001b[49m\n\u001b[0;32m    267\u001b[0m \u001b[43m        \u001b[49m\u001b[43mreq\u001b[49m\u001b[43m,\u001b[49m\n\u001b[0;32m    268\u001b[0m \u001b[43m        \u001b[49m\u001b[43mstream\u001b[49m\u001b[38;5;241;43m=\u001b[39;49m\u001b[43mstream\u001b[49m\u001b[43m,\u001b[49m\n\u001b[0;32m    269\u001b[0m \u001b[43m        \u001b[49m\u001b[43mtimeout\u001b[49m\u001b[38;5;241;43m=\u001b[39;49m\u001b[43mtimeout\u001b[49m\u001b[43m,\u001b[49m\n\u001b[0;32m    270\u001b[0m \u001b[43m        \u001b[49m\u001b[43mverify\u001b[49m\u001b[38;5;241;43m=\u001b[39;49m\u001b[43mverify\u001b[49m\u001b[43m,\u001b[49m\n\u001b[0;32m    271\u001b[0m \u001b[43m        \u001b[49m\u001b[43mcert\u001b[49m\u001b[38;5;241;43m=\u001b[39;49m\u001b[43mcert\u001b[49m\u001b[43m,\u001b[49m\n\u001b[0;32m    272\u001b[0m \u001b[43m        \u001b[49m\u001b[43mproxies\u001b[49m\u001b[38;5;241;43m=\u001b[39;49m\u001b[43mproxies\u001b[49m\u001b[43m,\u001b[49m\n\u001b[0;32m    273\u001b[0m \u001b[43m        \u001b[49m\u001b[43mallow_redirects\u001b[49m\u001b[38;5;241;43m=\u001b[39;49m\u001b[38;5;28;43;01mFalse\u001b[39;49;00m\u001b[43m,\u001b[49m\n\u001b[0;32m    274\u001b[0m \u001b[43m        \u001b[49m\u001b[38;5;241;43m*\u001b[39;49m\u001b[38;5;241;43m*\u001b[39;49m\u001b[43madapter_kwargs\u001b[49m\u001b[43m,\u001b[49m\n\u001b[0;32m    275\u001b[0m \u001b[43m    \u001b[49m\u001b[43m)\u001b[49m\n\u001b[0;32m    277\u001b[0m     extract_cookies_to_jar(\u001b[38;5;28mself\u001b[39m\u001b[38;5;241m.\u001b[39mcookies, prepared_request, resp\u001b[38;5;241m.\u001b[39mraw)\n\u001b[0;32m    279\u001b[0m     \u001b[38;5;66;03m# extract redirect url, if any, for the next loop\u001b[39;00m\n",
      "File \u001b[1;32mc:\\Users\\Tobia\\AppData\\Local\\Programs\\Python\\Python311\\Lib\\site-packages\\requests\\sessions.py:747\u001b[0m, in \u001b[0;36mSession.send\u001b[1;34m(self, request, **kwargs)\u001b[0m\n\u001b[0;32m    744\u001b[0m         \u001b[38;5;28;01mpass\u001b[39;00m\n\u001b[0;32m    746\u001b[0m \u001b[38;5;28;01mif\u001b[39;00m \u001b[38;5;129;01mnot\u001b[39;00m stream:\n\u001b[1;32m--> 747\u001b[0m     \u001b[43mr\u001b[49m\u001b[38;5;241;43m.\u001b[39;49m\u001b[43mcontent\u001b[49m\n\u001b[0;32m    749\u001b[0m \u001b[38;5;28;01mreturn\u001b[39;00m r\n",
      "File \u001b[1;32mc:\\Users\\Tobia\\AppData\\Local\\Programs\\Python\\Python311\\Lib\\site-packages\\requests\\models.py:899\u001b[0m, in \u001b[0;36mResponse.content\u001b[1;34m(self)\u001b[0m\n\u001b[0;32m    897\u001b[0m         \u001b[38;5;28mself\u001b[39m\u001b[38;5;241m.\u001b[39m_content \u001b[38;5;241m=\u001b[39m \u001b[38;5;28;01mNone\u001b[39;00m\n\u001b[0;32m    898\u001b[0m     \u001b[38;5;28;01melse\u001b[39;00m:\n\u001b[1;32m--> 899\u001b[0m         \u001b[38;5;28mself\u001b[39m\u001b[38;5;241m.\u001b[39m_content \u001b[38;5;241m=\u001b[39m \u001b[38;5;124mb\u001b[39m\u001b[38;5;124m\"\u001b[39m\u001b[38;5;124m\"\u001b[39m\u001b[38;5;241m.\u001b[39mjoin(\u001b[38;5;28mself\u001b[39m\u001b[38;5;241m.\u001b[39miter_content(CONTENT_CHUNK_SIZE)) \u001b[38;5;129;01mor\u001b[39;00m \u001b[38;5;124mb\u001b[39m\u001b[38;5;124m\"\u001b[39m\u001b[38;5;124m\"\u001b[39m\n\u001b[0;32m    901\u001b[0m \u001b[38;5;28mself\u001b[39m\u001b[38;5;241m.\u001b[39m_content_consumed \u001b[38;5;241m=\u001b[39m \u001b[38;5;28;01mTrue\u001b[39;00m\n\u001b[0;32m    902\u001b[0m \u001b[38;5;66;03m# don't need to release the connection; that's been handled by urllib3\u001b[39;00m\n\u001b[0;32m    903\u001b[0m \u001b[38;5;66;03m# since we exhausted the data.\u001b[39;00m\n",
      "File \u001b[1;32mc:\\Users\\Tobia\\AppData\\Local\\Programs\\Python\\Python311\\Lib\\site-packages\\requests\\models.py:818\u001b[0m, in \u001b[0;36mResponse.iter_content.<locals>.generate\u001b[1;34m()\u001b[0m\n\u001b[0;32m    816\u001b[0m     \u001b[38;5;28;01myield from\u001b[39;00m \u001b[38;5;28mself\u001b[39m\u001b[38;5;241m.\u001b[39mraw\u001b[38;5;241m.\u001b[39mstream(chunk_size, decode_content\u001b[38;5;241m=\u001b[39m\u001b[38;5;28;01mTrue\u001b[39;00m)\n\u001b[0;32m    817\u001b[0m \u001b[38;5;28;01mexcept\u001b[39;00m ProtocolError \u001b[38;5;28;01mas\u001b[39;00m e:\n\u001b[1;32m--> 818\u001b[0m     \u001b[38;5;28;01mraise\u001b[39;00m ChunkedEncodingError(e)\n\u001b[0;32m    819\u001b[0m \u001b[38;5;28;01mexcept\u001b[39;00m DecodeError \u001b[38;5;28;01mas\u001b[39;00m e:\n\u001b[0;32m    820\u001b[0m     \u001b[38;5;28;01mraise\u001b[39;00m ContentDecodingError(e)\n",
      "\u001b[1;31mChunkedEncodingError\u001b[0m: ('Connection broken: IncompleteRead(6137 bytes read, 4103 more expected)', IncompleteRead(6137 bytes read, 4103 more expected))"
     ]
    }
   ],
   "source": [
    "import io\n",
    "import zipfile\n",
    "from typing import NamedTuple\n",
    "\n",
    "import requests\n",
    "import tqdm\n",
    "from github import WorkflowRun\n",
    "\n",
    "for run in tqdm.tqdm(runs):\n",
    "    if True:  # run.conclusion == \"success\":\n",
    "        # run.logs_url\n",
    "        # download log\n",
    "        response = requests.get(\n",
    "            run.logs_url,\n",
    "            headers={\n",
    "                \"Accept\": \"application/vnd.github.v3+json\",\n",
    "                \"Authorization\": f\"token {ACCESS_TOKEN}\",\n",
    "            },\n",
    "        )\n",
    "        zip_file = response.content\n",
    "        try:\n",
    "            with zipfile.ZipFile(io.BytesIO(zip_file)) as zip:\n",
    "                for python_version in [\"3.9\", \"3.10\", \"3.11\"]:\n",
    "                    for system in [\"ubuntu-latest\", \"ubuntu\", \"macos-latest\", \"macos\"]:\n",
    "                        # Conda (macos-latest, 3.9, environment)/11_Test.txt\n",
    "\n",
    "                        with zip.open(\n",
    "                            f\"Conda ({system}, {python_version}, environment)/11_Test.txt\"\n",
    "                        ) as file:\n",
    "                            # save file in logs folder\n",
    "                            with open(\n",
    "                                f\"logs/{system}-{python_version}-{run.id}.txt\", \"wb\"\n",
    "                            ) as f:\n",
    "                                f.write(file.read())\n",
    "        except (KeyError, zipfile.BadZipFile) as e:\n",
    "            # ignore missing/damaged files\n",
    "            # print(f\"Error: {e} for {run.html_url}\")\n",
    "            pass"
   ]
  },
  {
   "cell_type": "code",
   "execution_count": 2,
   "metadata": {},
   "outputs": [
    {
     "data": {
      "text/plain": [
       "623"
      ]
     },
     "execution_count": 2,
     "metadata": {},
     "output_type": "execute_result"
    }
   ],
   "source": [
    "len(runs)"
   ]
  },
  {
   "cell_type": "code",
   "execution_count": 43,
   "metadata": {},
   "outputs": [
    {
     "name": "stderr",
     "output_type": "stream",
     "text": [
      "100%|██████████| 1006/1006 [00:03<00:00, 279.91it/s]\n"
     ]
    }
   ],
   "source": [
    "import pathlib\n",
    "\n",
    "\n",
    "class Failure(NamedTuple):\n",
    "    run: WorkflowRun.WorkflowRun\n",
    "    message: str\n",
    "    os: str\n",
    "    python_version: str\n",
    "\n",
    "\n",
    "failures: dict[str, list[Failure]] = {}\n",
    "cached_runs: dict[int, WorkflowRun.WorkflowRun] = {}\n",
    "\n",
    "files = pathlib.Path(\"logs\").glob(\"*.txt\")\n",
    "for file in tqdm.tqdm([f for f in files if f.is_file()]):\n",
    "    # example file name: ubuntu-latest-3.9-123456789.txt\n",
    "    run_id = int(file.stem.split(\"-\")[-1])\n",
    "    system = file.stem.split(\"-\")[0]\n",
    "    python_version = file.stem.split(\"-\")[2]\n",
    "    with open(file, encoding=\"utf-8\") as log:\n",
    "        for line in log.readlines():\n",
    "            line = line.strip()\n",
    "            # sage -t --random-seed=52698376733717166703261006357851972682 src/sage_setup/clean.py  # 1 doctest failed [failed in baseline: _find_stale_files finds some stale files under sage/tests when executed under conda]\n",
    "            # if \" [failed in baseline\" in line:\n",
    "            #    print(line)\n",
    "            if \" [failed in baseline\" in line:  # extract name of failing test file\n",
    "                failure = line.split(\" \")[4]\n",
    "                if failure == \"src/sage_setup/clean.py\":\n",
    "                    # That's a boring one\n",
    "                    continue\n",
    "                # run = cached_runs.get(run_id, repo.get_workflow_run(run_id))\n",
    "                # cached_runs[run_id] = run\n",
    "                run = next(\n",
    "                    (r for r in runs if r.id == run_id), None\n",
    "                )  # repo.get_workflow_run(run_id))\n",
    "                failures.setdefault(failure, []).append(\n",
    "                    Failure(\n",
    "                        run=run,\n",
    "                        message=line,\n",
    "                        os=system,\n",
    "                        python_version=python_version,\n",
    "                    )\n",
    "                )"
   ]
  },
  {
   "cell_type": "code",
   "execution_count": 46,
   "metadata": {},
   "outputs": [
    {
     "name": "stdout",
     "output_type": "stream",
     "text": [
      ": 2 ubuntu, 0 macos\n",
      "src/sage/algebras/fusion_rings/fusion_ring.py: 1 ubuntu, 2 macos\n",
      "src/sage/geometry/cone.py: 0 ubuntu, 1 macos\n",
      "src/sage/groups/matrix_gps/finitely_generated_gap.py: 1 ubuntu, 0 macos\n",
      "src/sage/interfaces/expect.py: 1 ubuntu, 1 macos\n",
      "src/sage/libs/gap/element.pyx: 4 ubuntu, 1 macos\n",
      "src/sage/libs/singular/singular.pyx: 1 ubuntu, 0 macos\n",
      "src/sage/matrix/matrix2.pyx: 2 ubuntu, 1 macos\n",
      "src/sage/misc/weak_dict.pyx: 1 ubuntu, 0 macos\n",
      "src/sage/modular/modform/l_series_gross_zagier.py: 0 ubuntu, 1 macos\n",
      "src/sage/parallel/map_reduce.py: 0 ubuntu, 42 macos\n",
      "src/sage/plot/plot.py: 3 ubuntu, 4 macos\n",
      "src/sage/rings/function_field/drinfeld_modules/morphism.py: 3 ubuntu, 2 macos\n",
      "src/sage/rings/polynomial/multi_polynomial_ideal.py: 1 ubuntu, 0 macos\n",
      "src/sage/rings/polynomial/multi_polynomial_libsingular.pyx: 1 ubuntu, 0 macos\n",
      "src/sage/rings/polynomial/polynomial_element.pyx: 1 ubuntu, 0 macos\n",
      "src/sage/rings/polynomial/skew_polynomial_finite_field.pyx: 1 ubuntu, 0 macos\n",
      "src/sage/schemes/elliptic_curves/ell_field.py: 3 ubuntu, 5 macos\n",
      "src/sage/sets/recursively_enumerated_set.pyx: 0 ubuntu, 11 macos\n",
      "src/sage/structure/coerce_actions.pyx: 0 ubuntu, 22 macos\n"
     ]
    }
   ],
   "source": [
    "for failure, details in sorted(failures.items(), key=lambda x: x[0]):\n",
    "    # only show real failures, not the message printed during the test run\n",
    "    filtered_details = [\n",
    "        detail for detail in details if \"# [failed in baseline\" not in detail.message\n",
    "    ]\n",
    "    if not filtered_details:\n",
    "        continue\n",
    "\n",
    "    print(\n",
    "        f\"{failure}: {len([f for f in filtered_details if f.os == 'ubuntu'])} ubuntu, {len([f for f in filtered_details if f.os == 'macos'])} macos\"\n",
    "    )\n",
    "    # for detail in filtered_details:\n",
    "    #    print(f\"{detail.message}\")"
   ]
  },
  {
   "cell_type": "code",
   "execution_count": 68,
   "metadata": {},
   "outputs": [
    {
     "name": "stdout",
     "output_type": "stream",
     "text": [
      "==================== 7401260734 - macos - 3.9 ====================\n",
      "2024-01-03T22:08:22.4185030Z sage -t --random-seed=149397784589125784642328903092850476791 src/sage/matrix/matrix2.pyx  # [failed in baseline: failure seen in https://github.com/sagemath/sage/actions/runs/6835143781/job/18588599649#step:11:16939]\n",
      "2024-01-03T22:08:22.4207010Z     Timed out\n",
      "2024-01-03T22:08:22.4214130Z **********************************************************************\n",
      "2024-01-03T22:08:22.4221120Z Tests run before process (pid=7434) timed out:\n",
      "2024-01-03T22:08:22.4514490Z sage: m = matrix(ZZ['x'], 2, 3, [1..6]) ## line 128 ##\n",
      "2024-01-03T22:08:22.4569720Z sage: TestSuite(m).run() ## line 129 ##\n",
      "2024-01-03T22:08:22.4652790Z sage: K.<x> = FractionField(QQ['x']) ## line 135 ##\n",
      "2024-01-03T22:08:22.4849330Z sage: m = Matrix([[1], [x]]) ## line 136 ##\n",
      "2024-01-03T22:08:22.4894610Z sage: t = (m, m.echelon_form()) ## line 137 ##\n",
      "2024-01-03T22:08:22.4899010Z sage: loads(dumps(t)) ## line 138 ##\n",
      "2024-01-03T22:08:22.4902200Z (\n",
      "2024-01-03T22:08:22.4904590Z [1]  [1]\n",
      "2024-01-03T22:08:22.4907160Z [x], [0]\n",
      "2024-01-03T22:08:22.4909230Z )\n",
      "2024-01-03T22:08:22.4912100Z sage: sig_on_count() # check sig_on/off pairings (virtual doctest) ## line 143 ##\n",
      "2024-01-03T22:08:22.4914110Z 0\n",
      "2024-01-03T22:08:22.4916720Z sage: A = matrix(QQ, 3, [1,2,4,2,3,1,0,1,2]) ## line 153 ##\n",
      "2024-01-03T22:08:22.4919540Z sage: B = matrix(QQ, 3, 2, [1,7,5, 2,1,3]) ## line 154 ##\n",
      "2024-01-03T22:08:22.4924430Z sage: C = A._backslash_(B); C ## line 155 ##\n",
      "2024-01-03T22:08:22.4926940Z doctest:warning\n",
      "2024-01-03T22:08:22.4940040Z   File \"/Users/runner/work/sage/sage/src/bin/sage-runtests\", line 164, in <module>\n",
      "2024-01-03T22:08:22.5126330Z     err = DC.run()\n",
      "2024-01-03T22:08:22.5322600Z   File \"/Users/runner/work/sage/sage/src/sage/doctest/control.py\", line 1571, in run\n",
      "2024-01-03T22:08:22.5349220Z     self.run_doctests()\n",
      "2024-01-03T22:08:22.5378490Z   File \"/Users/runner/work/sage/sage/src/sage/doctest/control.py\", line 1183, in run_doctests\n",
      "2024-01-03T22:08:22.5410090Z     self.dispatcher.dispatch()\n",
      "2024-01-03T22:08:22.5427300Z   File \"/Users/runner/work/sage/sage/src/sage/doctest/forker.py\", line 2110, in dispatch\n",
      "2024-01-03T22:08:22.5616320Z     self.parallel_dispatch()\n",
      "2024-01-03T22:08:22.5640640Z   File \"/Users/runner/work/sage/sage/src/sage/doctest/forker.py\", line 2003, in parallel_dispatch\n",
      "2024-01-03T22:08:22.5654810Z     w.start()  # This might take some time\n",
      "2024-01-03T22:08:22.5674290Z   File \"/Users/runner/work/sage/sage/src/sage/doctest/forker.py\", line 2283, in start\n",
      "2024-01-03T22:08:22.5687550Z     super().start()\n",
      "2024-01-03T22:08:22.5728230Z   File \"/Users/runner/miniconda3/envs/sage/lib/python3.9/multiprocessing/process.py\", line 121, in start\n",
      "2024-01-03T22:08:22.5758840Z     self._popen = self._Popen(self)\n",
      "2024-01-03T22:08:22.5777100Z   File \"/Users/runner/miniconda3/envs/sage/lib/python3.9/multiprocessing/context.py\", line 224, in _Popen\n",
      "2024-01-03T22:08:22.5801950Z     return _default_context.get_context().Process._Popen(process_obj)\n",
      "2024-01-03T22:08:22.5820520Z   File \"/Users/runner/miniconda3/envs/sage/lib/python3.9/multiprocessing/context.py\", line 277, in _Popen\n",
      "2024-01-03T22:08:22.5870780Z     return Popen(process_obj)\n",
      "2024-01-03T22:08:22.6233310Z   File \"/Users/runner/miniconda3/envs/sage/lib/python3.9/multiprocessing/popen_fork.py\", line 19, in __init__\n",
      "2024-01-03T22:08:22.6256760Z     self._launch(process_obj)\n",
      "2024-01-03T22:08:22.6273170Z   File \"/Users/runner/miniconda3/envs/sage/lib/python3.9/multiprocessing/popen_fork.py\", line 71, in _launch\n",
      "2024-01-03T22:08:22.6280840Z     code = process_obj._bootstrap(parent_sentinel=child_r)\n",
      "2024-01-03T22:08:22.7288280Z   File \"/Users/runner/miniconda3/envs/sage/lib/python3.9/multiprocessing/process.py\", line 315, in _bootstrap\n",
      "2024-01-03T22:08:22.7765920Z     self.run()\n",
      "2024-01-03T22:08:22.7778210Z   File \"/Users/runner/work/sage/sage/src/sage/doctest/forker.py\", line 2254, in run\n",
      "2024-01-03T22:08:22.7803530Z     task(self.options, self.outtmpfile, msgpipe, self.result_queue,\n",
      "2024-01-03T22:08:22.7980010Z   File \"/Users/runner/work/sage/sage/src/sage/doctest/forker.py\", line 2589, in __call__\n",
      "2024-01-03T22:08:22.8025050Z     doctests, extras = self._run(runner, options, results)\n",
      "2024-01-03T22:08:22.8061900Z   File \"/Users/runner/work/sage/sage/src/sage/doctest/forker.py\", line 2641, in _run\n",
      "2024-01-03T22:08:22.8108270Z     result = runner.run(test)\n",
      "\n",
      "2024-01-03T22:18:35.0627250Z sage -t --random-seed=149397784589125784642328903092850476791 src/sage/matrix/matrix2.pyx  # Timed out [failed in baseline: failure seen in https://github.com/sagemath/sage/actions/runs/6835143781/job/18588599649#step:11:16939]\n",
      "2024-01-03T22:18:35.0634480Z sage -t --random-seed=149397784589125784642328903092850476791 src/sage_setup/clean.py  # 1 doctest failed [failed in baseline: _find_stale_files finds some stale files under sage/tests when executed under conda]\n",
      "2024-01-03T22:18:35.0637830Z ----------------------------------------------------------------------\n",
      "2024-01-03T22:18:35.0638460Z Total time for all tests: 2350.0 seconds\n",
      "2024-01-03T22:18:35.0639120Z     cpu time: 5449.8 seconds\n",
      "2024-01-03T22:18:35.0639560Z     cumulative wall time: 8258.5 seconds\n",
      "2024-01-03T22:18:35.1596330Z Features detected for doctesting: cvxopt,fpylll,gap_package_polycyclic,gfan,imagemagick,lrcalc_python,mpmath,nauty,networkx,numpy,palp,pandoc,pexpect,pillow,polytopes_db,pplpy,primecountpy,ptyprocess,pyparsing,sage.combinat,sage.geometry.polyhedron,sage.graphs,sage.groups,sage.libs.braiding,sage.libs.ecl,sage.libs.flint,sage.libs.gap,sage.libs.linbox,sage.libs.m4ri,sage.libs.ntl,sage.libs.pari,sage.libs.singular,sage.misc.cython,sage.modular,sage.modules,sage.numerical.mip,sage.plot,sage.rings.complex_double,sage.rings.finite_rings,sage.rings.function_field,sage.rings.number_field,sage.rings.padics,sage.rings.polynomial.pbori,sage.rings.real_double,sage.rings.real_mpfr,sage.schemes,sage.symbolic,scipy,singular,sphinx,sympy\n",
      "2024-01-03T22:18:35.1762950Z pytest is not installed in the venv, skip checking tests that rely on it\n",
      "\n",
      "==================== 7393297265 - ubuntu - 3.9 ====================\n",
      "2024-01-03T04:54:58.4015009Z sage -t --random-seed=132047346212722436739849981093471821947 src/sage/matrix/matrix2.pyx  # [failed in baseline: failure seen in https://github.com/sagemath/sage/actions/runs/6835143781/job/18588599649#step:11:16939]\n",
      "2024-01-03T04:54:58.4018175Z     Timed out\n",
      "2024-01-03T04:54:58.4020087Z **********************************************************************\n",
      "2024-01-03T04:54:58.4020819Z Tests run before process (pid=103091) timed out:\n",
      "2024-01-03T04:54:58.4021734Z sage: m = matrix(ZZ['x'], 2, 3, [1..6]) ## line 128 ##\n",
      "2024-01-03T04:54:58.4022430Z sage: TestSuite(m).run() ## line 129 ##\n",
      "2024-01-03T04:54:58.4023231Z sage: K.<x> = FractionField(QQ['x']) ## line 135 ##\n",
      "2024-01-03T04:54:58.4023918Z sage: m = Matrix([[1], [x]]) ## line 136 ##\n",
      "2024-01-03T04:54:58.4024564Z sage: t = (m, m.echelon_form()) ## line 137 ##\n",
      "2024-01-03T04:54:58.4025169Z sage: loads(dumps(t)) ## line 138 ##\n",
      "2024-01-03T04:54:58.4025677Z (\n",
      "2024-01-03T04:54:58.4026009Z [1]  [1]\n",
      "2024-01-03T04:54:58.4026357Z [x], [0]\n",
      "2024-01-03T04:54:58.4026685Z )\n",
      "2024-01-03T04:54:58.4027653Z sage: sig_on_count() # check sig_on/off pairings (virtual doctest) ## line 143 ##\n",
      "2024-01-03T04:54:58.4028469Z 0\n",
      "2024-01-03T04:54:58.4029031Z sage: A = matrix(QQ, 3, [1,2,4,2,3,1,0,1,2]) ## line 153 ##\n",
      "2024-01-03T04:54:58.4029865Z sage: B = matrix(QQ, 3, 2, [1,7,5, 2,1,3]) ## line 154 ##\n",
      "2024-01-03T04:54:58.4030588Z sage: C = A._backslash_(B); C ## line 155 ##\n",
      "2024-01-03T04:54:58.4031177Z doctest:warning\n",
      "2024-01-03T04:54:58.4033377Z   File \"/home/runner/work/sage/sage/src/bin/sage-runtests\", line 164, in <module>\n",
      "2024-01-03T04:54:58.4034293Z     err = DC.run()\n",
      "2024-01-03T04:54:58.4036794Z   File \"/home/runner/work/sage/sage/src/sage/doctest/control.py\", line 1571, in run\n",
      "2024-01-03T04:54:58.4037671Z     self.run_doctests()\n",
      "2024-01-03T04:54:58.4040918Z   File \"/home/runner/work/sage/sage/src/sage/doctest/control.py\", line 1183, in run_doctests\n",
      "2024-01-03T04:54:58.4041870Z     self.dispatcher.dispatch()\n",
      "2024-01-03T04:54:58.4044216Z   File \"/home/runner/work/sage/sage/src/sage/doctest/forker.py\", line 2110, in dispatch\n",
      "2024-01-03T04:54:58.4045128Z     self.parallel_dispatch()\n",
      "2024-01-03T04:54:58.4047978Z   File \"/home/runner/work/sage/sage/src/sage/doctest/forker.py\", line 2003, in parallel_dispatch\n",
      "2024-01-03T04:54:58.4048993Z     w.start()  # This might take some time\n",
      "2024-01-03T04:54:58.4051280Z   File \"/home/runner/work/sage/sage/src/sage/doctest/forker.py\", line 2283, in start\n",
      "2024-01-03T04:54:58.4052124Z     super().start()\n",
      "2024-01-03T04:54:58.4056129Z   File \"/usr/share/miniconda3/envs/sage/lib/python3.9/multiprocessing/process.py\", line 121, in start\n",
      "2024-01-03T04:54:58.4057185Z     self._popen = self._Popen(self)\n",
      "2024-01-03T04:54:58.4061444Z   File \"/usr/share/miniconda3/envs/sage/lib/python3.9/multiprocessing/context.py\", line 224, in _Popen\n",
      "2024-01-03T04:54:58.4063299Z     return _default_context.get_context().Process._Popen(process_obj)\n",
      "2024-01-03T04:54:58.4067906Z   File \"/usr/share/miniconda3/envs/sage/lib/python3.9/multiprocessing/context.py\", line 277, in _Popen\n",
      "2024-01-03T04:54:58.4068953Z     return Popen(process_obj)\n",
      "2024-01-03T04:54:58.4073688Z   File \"/usr/share/miniconda3/envs/sage/lib/python3.9/multiprocessing/popen_fork.py\", line 19, in __init__\n",
      "2024-01-03T04:54:58.4074797Z     self._launch(process_obj)\n",
      "2024-01-03T04:54:58.4079657Z   File \"/usr/share/miniconda3/envs/sage/lib/python3.9/multiprocessing/popen_fork.py\", line 71, in _launch\n",
      "2024-01-03T04:54:58.4081011Z     code = process_obj._bootstrap(parent_sentinel=child_r)\n",
      "2024-01-03T04:54:58.4085796Z   File \"/usr/share/miniconda3/envs/sage/lib/python3.9/multiprocessing/process.py\", line 315, in _bootstrap\n",
      "2024-01-03T04:54:58.4086898Z     self.run()\n",
      "2024-01-03T04:54:58.4089233Z   File \"/home/runner/work/sage/sage/src/sage/doctest/forker.py\", line 2254, in run\n",
      "2024-01-03T04:54:58.4090514Z     task(self.options, self.outtmpfile, msgpipe, self.result_queue,\n",
      "2024-01-03T04:54:58.4093322Z   File \"/home/runner/work/sage/sage/src/sage/doctest/forker.py\", line 2589, in __call__\n",
      "2024-01-03T04:54:58.4094459Z     doctests, extras = self._run(runner, options, results)\n",
      "2024-01-03T04:54:58.4097183Z   File \"/home/runner/work/sage/sage/src/sage/doctest/forker.py\", line 2641, in _run\n",
      "2024-01-03T04:54:58.4098080Z     result = runner.run(test)\n",
      "\n",
      "2024-01-03T05:02:28.4902900Z sage -t --random-seed=132047346212722436739849981093471821947 src/sage/matrix/matrix2.pyx  # Timed out [failed in baseline: failure seen in https://github.com/sagemath/sage/actions/runs/6835143781/job/18588599649#step:11:16939]\n",
      "2024-01-03T05:02:28.4907150Z sage -t --random-seed=132047346212722436739849981093471821947 src/sage_setup/clean.py  # 1 doctest failed [failed in baseline: _find_stale_files finds some stale files under sage/tests when executed under conda]\n",
      "2024-01-03T05:02:28.4909131Z ----------------------------------------------------------------------\n",
      "2024-01-03T05:02:28.4909560Z Total time for all tests: 2065.7 seconds\n",
      "2024-01-03T05:02:28.4909908Z     cpu time: 4751.1 seconds\n",
      "2024-01-03T05:02:28.4910210Z     cumulative wall time: 6434.2 seconds\n",
      "2024-01-03T05:02:28.5460740Z Features detected for doctesting: cvxopt,fpylll,gap_package_polycyclic,gfan,imagemagick,lrcalc_python,mpmath,nauty,networkx,numpy,palp,pandoc,pexpect,pillow,pplpy,primecountpy,ptyprocess,pyparsing,sage.combinat,sage.geometry.polyhedron,sage.graphs,sage.groups,sage.libs.braiding,sage.libs.ecl,sage.libs.flint,sage.libs.gap,sage.libs.linbox,sage.libs.m4ri,sage.libs.ntl,sage.libs.pari,sage.libs.singular,sage.misc.cython,sage.modular,sage.modules,sage.numerical.mip,sage.plot,sage.rings.complex_double,sage.rings.finite_rings,sage.rings.function_field,sage.rings.number_field,sage.rings.padics,sage.rings.polynomial.pbori,sage.rings.real_double,sage.rings.real_mpfr,sage.schemes,sage.symbolic,scipy,singular,sphinx,sympy\n",
      "2024-01-03T05:02:28.5626617Z pytest is not installed in the venv, skip checking tests that rely on it\n",
      "\n"
     ]
    }
   ],
   "source": [
    "failing_file = \"src/sage/matrix/matrix2.pyx\"\n",
    "for detail in failures[failing_file]:\n",
    "    if \"# [failed in baseline\" in detail.message:\n",
    "        continue\n",
    "    if run.conclusion != \"success\":\n",
    "        print(f\"Skipping {detail.run.id} because it did not succeed\")\n",
    "    if \"Timed out\" not in detail.message:\n",
    "        continue\n",
    "\n",
    "    with open(\n",
    "        f\"logs/{detail.os}-latest-{detail.python_version}-{detail.run.id}.txt\",\n",
    "        encoding=\"utf-8\",\n",
    "    ) as file:\n",
    "        print(\n",
    "            f\"==================== {detail.run.id} - {detail.os} - {detail.python_version} ====================\"\n",
    "        )\n",
    "        # print lines around the failure\n",
    "        lines = file.readlines()\n",
    "        for i, line in enumerate(lines):\n",
    "            # if 'File \"' + failing_file in line:\n",
    "            if failing_file in line:\n",
    "                for j in range(i, i + 50):\n",
    "                    if j >= len(lines):\n",
    "                        break\n",
    "                    print(f\"{lines[j].strip()}\")\n",
    "                print()"
   ]
  }
 ],
 "metadata": {
  "kernelspec": {
   "display_name": "Python 3",
   "language": "python",
   "name": "python3"
  },
  "language_info": {
   "codemirror_mode": {
    "name": "ipython",
    "version": 3
   },
   "file_extension": ".py",
   "mimetype": "text/x-python",
   "name": "python",
   "nbconvert_exporter": "python",
   "pygments_lexer": "ipython3",
   "version": "3.11.8"
  }
 },
 "nbformat": 4,
 "nbformat_minor": 2
}
